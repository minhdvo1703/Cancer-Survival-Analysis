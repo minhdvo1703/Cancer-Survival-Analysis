{
 "cells": [
  {
   "cell_type": "markdown",
   "id": "bf08bcdc-f873-48d2-9a45-26d377468ffe",
   "metadata": {
    "id": "AXFJlWjSmGv_",
    "tags": []
   },
   "source": [
    "### Minh Vo\n",
    "### ADSP 32009 - Data Science in Healthcare (Autumn 23)\n",
    "### Project 2 - Cancer Survival Analysis\n"
   ]
  },
  {
   "cell_type": "markdown",
   "id": "a0d273b8-4576-4e94-9b1d-7105facc10e8",
   "metadata": {},
   "source": [
    "Columns denote different types of cancer.\n",
    "\n",
    "Columns ending with _DT are the dates of cancer diagnosis.\n",
    "\n",
    "For each column, a 1 (or 0) indicates patient has (does not have) that type of cancer.\n",
    "\n",
    "**Calculate the age of each patient at the time of cancer diagnosis.**\n",
    "\n",
    "**Analyze survival rate by gender, race and age group in deciles (11-20, 21-30, ....) for patients with following cancer:**\n",
    "\n",
    "- lung\n",
    "- pancreas\n",
    "- thyroid\n",
    "- colorectal\n",
    "- melanoma\n",
    "\n",
    "\n",
    "Note:\n",
    "\n",
    "1. Use 8/25/16 as the end date of the analysis.\n",
    "\n",
    "2. Remove all diagnosis after 8/25/16.\n",
    "\n",
    "3. Keep patients who died after 8/25/16 (you need to censor this data).\n",
    "\n",
    "4. Remove all patients who do not have a diagnosis date.\n",
    "\n",
    "5. Categorize race into White, African-American, Asian/Mideast-Indian, and Others.\n",
    "\n",
    "6. Patients with more than 1 cancer - treat them as independent data points for each cancer type"
   ]
  },
  {
   "cell_type": "code",
   "execution_count": 478,
   "id": "4fdc0a88-f966-4a43-9e7c-27a959449a28",
   "metadata": {
    "tags": []
   },
   "outputs": [],
   "source": [
    "import re\n",
    "import math\n",
    "import numpy as np\n",
    "import pandas as pd\n",
    "import matplotlib.pyplot as plt\n",
    "import seaborn as sns\n",
    "\n",
    "from dateutil.relativedelta import relativedelta\n",
    "\n",
    "from lifelines import KaplanMeierFitter\n",
    "from lifelines import CoxPHFitter\n",
    "from lifelines.statistics import logrank_test\n",
    "from lifelines.statistics import pairwise_logrank_test"
   ]
  },
  {
   "cell_type": "markdown",
   "id": "762acb86-b2b1-4a29-a0d1-9221e6e75161",
   "metadata": {
    "tags": []
   },
   "source": [
    "### Data Loading"
   ]
  },
  {
   "cell_type": "code",
   "execution_count": 479,
   "id": "5b669d43-013b-4b8c-a4d9-9f3edf20c62e",
   "metadata": {
    "tags": []
   },
   "outputs": [
    {
     "name": "stdout",
     "output_type": "stream",
     "text": [
      "(8468, 14)\n"
     ]
    },
    {
     "data": {
      "text/html": [
       "<div>\n",
       "<style scoped>\n",
       "    .dataframe tbody tr th:only-of-type {\n",
       "        vertical-align: middle;\n",
       "    }\n",
       "\n",
       "    .dataframe tbody tr th {\n",
       "        vertical-align: top;\n",
       "    }\n",
       "\n",
       "    .dataframe thead th {\n",
       "        text-align: right;\n",
       "    }\n",
       "</style>\n",
       "<table border=\"1\" class=\"dataframe\">\n",
       "  <thead>\n",
       "    <tr style=\"text-align: right;\">\n",
       "      <th></th>\n",
       "      <th>BIRTH_DATE_off</th>\n",
       "      <th>DEATH_DATE_off</th>\n",
       "      <th>sex</th>\n",
       "      <th>race</th>\n",
       "      <th>LUNG</th>\n",
       "      <th>PANCREAS</th>\n",
       "      <th>THYROID</th>\n",
       "      <th>COLORECTAL</th>\n",
       "      <th>MELANOMA</th>\n",
       "      <th>LUNG DT</th>\n",
       "      <th>PANCREAS_DT</th>\n",
       "      <th>THYROID_DT</th>\n",
       "      <th>COLORECTAL_DT</th>\n",
       "      <th>MELANOMA_DT</th>\n",
       "    </tr>\n",
       "  </thead>\n",
       "  <tbody>\n",
       "    <tr>\n",
       "      <th>0</th>\n",
       "      <td>1959-12-02</td>\n",
       "      <td>NaT</td>\n",
       "      <td>Male</td>\n",
       "      <td>Black/African-American</td>\n",
       "      <td>1</td>\n",
       "      <td>0</td>\n",
       "      <td>0</td>\n",
       "      <td>0</td>\n",
       "      <td>0</td>\n",
       "      <td>2013-09-01</td>\n",
       "      <td>NaT</td>\n",
       "      <td>NaT</td>\n",
       "      <td>NaT</td>\n",
       "      <td>NaT</td>\n",
       "    </tr>\n",
       "    <tr>\n",
       "      <th>1</th>\n",
       "      <td>1955-11-18</td>\n",
       "      <td>2016-04-20</td>\n",
       "      <td>Male</td>\n",
       "      <td>Black/African-American</td>\n",
       "      <td>1</td>\n",
       "      <td>0</td>\n",
       "      <td>0</td>\n",
       "      <td>0</td>\n",
       "      <td>0</td>\n",
       "      <td>2016-04-02</td>\n",
       "      <td>NaT</td>\n",
       "      <td>NaT</td>\n",
       "      <td>NaT</td>\n",
       "      <td>NaT</td>\n",
       "    </tr>\n",
       "    <tr>\n",
       "      <th>2</th>\n",
       "      <td>1946-01-14</td>\n",
       "      <td>2015-05-25</td>\n",
       "      <td>Female</td>\n",
       "      <td>Black/African-American</td>\n",
       "      <td>1</td>\n",
       "      <td>0</td>\n",
       "      <td>0</td>\n",
       "      <td>0</td>\n",
       "      <td>0</td>\n",
       "      <td>2015-04-11</td>\n",
       "      <td>NaT</td>\n",
       "      <td>NaT</td>\n",
       "      <td>NaT</td>\n",
       "      <td>NaT</td>\n",
       "    </tr>\n",
       "    <tr>\n",
       "      <th>3</th>\n",
       "      <td>1932-07-28</td>\n",
       "      <td>NaT</td>\n",
       "      <td>Female</td>\n",
       "      <td>Black/African-American</td>\n",
       "      <td>0</td>\n",
       "      <td>0</td>\n",
       "      <td>0</td>\n",
       "      <td>0</td>\n",
       "      <td>0</td>\n",
       "      <td>NaT</td>\n",
       "      <td>NaT</td>\n",
       "      <td>NaT</td>\n",
       "      <td>NaT</td>\n",
       "      <td>NaT</td>\n",
       "    </tr>\n",
       "    <tr>\n",
       "      <th>4</th>\n",
       "      <td>1943-04-17</td>\n",
       "      <td>NaT</td>\n",
       "      <td>Male</td>\n",
       "      <td>White</td>\n",
       "      <td>0</td>\n",
       "      <td>0</td>\n",
       "      <td>0</td>\n",
       "      <td>0</td>\n",
       "      <td>0</td>\n",
       "      <td>NaT</td>\n",
       "      <td>NaT</td>\n",
       "      <td>NaT</td>\n",
       "      <td>NaT</td>\n",
       "      <td>NaT</td>\n",
       "    </tr>\n",
       "  </tbody>\n",
       "</table>\n",
       "</div>"
      ],
      "text/plain": [
       "  BIRTH_DATE_off DEATH_DATE_off     sex                    race  LUNG  \\\n",
       "0     1959-12-02            NaT    Male  Black/African-American     1   \n",
       "1     1955-11-18     2016-04-20    Male  Black/African-American     1   \n",
       "2     1946-01-14     2015-05-25  Female  Black/African-American     1   \n",
       "3     1932-07-28            NaT  Female  Black/African-American     0   \n",
       "4     1943-04-17            NaT    Male                   White     0   \n",
       "\n",
       "   PANCREAS  THYROID  COLORECTAL  MELANOMA    LUNG DT PANCREAS_DT THYROID_DT  \\\n",
       "0         0        0           0         0 2013-09-01         NaT        NaT   \n",
       "1         0        0           0         0 2016-04-02         NaT        NaT   \n",
       "2         0        0           0         0 2015-04-11         NaT        NaT   \n",
       "3         0        0           0         0        NaT         NaT        NaT   \n",
       "4         0        0           0         0        NaT         NaT        NaT   \n",
       "\n",
       "  COLORECTAL_DT MELANOMA_DT  \n",
       "0           NaT         NaT  \n",
       "1           NaT         NaT  \n",
       "2           NaT         NaT  \n",
       "3           NaT         NaT  \n",
       "4           NaT         NaT  "
      ]
     },
     "execution_count": 479,
     "metadata": {},
     "output_type": "execute_result"
    }
   ],
   "source": [
    "df = pd.read_excel(\"Cancer_patient_data.xlsx\")\n",
    "\n",
    "print(df.shape)\n",
    "df.head()"
   ]
  },
  {
   "cell_type": "code",
   "execution_count": 480,
   "id": "1d657956-b99d-419d-8df8-c269d23ee771",
   "metadata": {
    "tags": []
   },
   "outputs": [
    {
     "name": "stdout",
     "output_type": "stream",
     "text": [
      "<class 'pandas.core.frame.DataFrame'>\n",
      "RangeIndex: 8468 entries, 0 to 8467\n",
      "Data columns (total 14 columns):\n",
      " #   Column          Non-Null Count  Dtype         \n",
      "---  ------          --------------  -----         \n",
      " 0   BIRTH_DATE_off  8468 non-null   datetime64[ns]\n",
      " 1   DEATH_DATE_off  447 non-null    datetime64[ns]\n",
      " 2   sex             8468 non-null   object        \n",
      " 3   race            8466 non-null   object        \n",
      " 4   LUNG            8468 non-null   int64         \n",
      " 5   PANCREAS        8468 non-null   int64         \n",
      " 6   THYROID         8468 non-null   int64         \n",
      " 7   COLORECTAL      8468 non-null   int64         \n",
      " 8   MELANOMA        8468 non-null   int64         \n",
      " 9   LUNG DT         1485 non-null   datetime64[ns]\n",
      " 10  PANCREAS_DT     660 non-null    datetime64[ns]\n",
      " 11  THYROID_DT      745 non-null    datetime64[ns]\n",
      " 12  COLORECTAL_DT   946 non-null    datetime64[ns]\n",
      " 13  MELANOMA_DT     346 non-null    datetime64[ns]\n",
      "dtypes: datetime64[ns](7), int64(5), object(2)\n",
      "memory usage: 926.3+ KB\n"
     ]
    }
   ],
   "source": [
    "df.info()"
   ]
  },
  {
   "cell_type": "code",
   "execution_count": 481,
   "id": "09eff930-5ea2-47e4-92a4-b76baf728d4e",
   "metadata": {
    "tags": []
   },
   "outputs": [
    {
     "data": {
      "text/plain": [
       "Index(['BIRTH_DATE_off', 'DEATH_DATE_off', 'sex', 'race', 'LUNG', 'PANCREAS',\n",
       "       'THYROID', 'COLORECTAL', 'MELANOMA', 'LUNG_DT', 'PANCREAS_DT',\n",
       "       'THYROID_DT', 'COLORECTAL_DT', 'MELANOMA_DT'],\n",
       "      dtype='object')"
      ]
     },
     "execution_count": 481,
     "metadata": {},
     "output_type": "execute_result"
    }
   ],
   "source": [
    "df = df.rename(columns = {\"LUNG DT\": \"LUNG_DT\"})\n",
    "df.columns"
   ]
  },
  {
   "cell_type": "code",
   "execution_count": 482,
   "id": "a8863c5e-ec91-4d85-8cc1-d707cc75d882",
   "metadata": {
    "tags": []
   },
   "outputs": [
    {
     "data": {
      "text/plain": [
       "race\n",
       "White                                     5725\n",
       "Black/African-American                    2071\n",
       "Unknown                                    253\n",
       "Asian/Mideast Indian                       234\n",
       "More than one Race                          90\n",
       "Patient Declined                            50\n",
       "Native Hawaiian/Other Pacific Islander      30\n",
       "American Indian or Alaska Native            13\n",
       "Name: count, dtype: int64"
      ]
     },
     "execution_count": 482,
     "metadata": {},
     "output_type": "execute_result"
    }
   ],
   "source": [
    "df.race.value_counts()"
   ]
  },
  {
   "cell_type": "markdown",
   "id": "7df40f78-90aa-4a00-a731-c4f29a074cc4",
   "metadata": {
    "tags": []
   },
   "source": [
    "### Data Proprocesing"
   ]
  },
  {
   "cell_type": "code",
   "execution_count": 483,
   "id": "a2d71752-bbb0-48ea-bde5-5c8716a90c63",
   "metadata": {
    "tags": []
   },
   "outputs": [],
   "source": [
    "diagnosis_dt = ['LUNG_DT', 'PANCREAS_DT', 'THYROID_DT', 'COLORECTAL_DT', 'MELANOMA_DT']\n",
    "cancer_types = ['LUNG', 'PANCREAS', 'THYROID', 'COLORECTAL', 'MELANOMA']"
   ]
  },
  {
   "cell_type": "markdown",
   "id": "587202a4",
   "metadata": {},
   "source": [
    "#### Categorize race into White, African-American, Asian/Mideast-Indian, and Others."
   ]
  },
  {
   "cell_type": "code",
   "execution_count": 484,
   "id": "c1f01713-d29b-4396-94e0-5c85c4e49505",
   "metadata": {},
   "outputs": [
    {
     "data": {
      "text/plain": [
       "race\n",
       "White                   5725\n",
       "African-American        2071\n",
       "Others                   438\n",
       "Asian/Mideast-Indian     234\n",
       "Name: count, dtype: int64"
      ]
     },
     "execution_count": 484,
     "metadata": {},
     "output_type": "execute_result"
    }
   ],
   "source": [
    "def categorize_race(race):\n",
    "    if pd.isna(race):\n",
    "        return 'Others'\n",
    "    elif race == 'White':\n",
    "        return 'White'\n",
    "    elif race == 'Black/African-American':\n",
    "        return 'African-American'\n",
    "    elif race == 'Asian/Mideast Indian':\n",
    "        return 'Asian/Mideast-Indian'\n",
    "    else:\n",
    "        return 'Others'\n",
    "\n",
    "df['race'] = df['race'].apply(categorize_race)\n",
    "df['race'].value_counts()\n"
   ]
  },
  {
   "cell_type": "code",
   "execution_count": 485,
   "id": "43bfd7e5-16b2-4d9d-ab9c-f387325a4ab1",
   "metadata": {
    "tags": []
   },
   "outputs": [],
   "source": [
    "# # Function to calculate age at diagnosis\n",
    "# def calculate_age_at_diagnosis(row):\n",
    "#     for cancer_type in cancer_types:\n",
    "#         diagnosis_date = row[cancer_type + '_DT']\n",
    "#         if pd.notnull(diagnosis_date):  # Check if the diagnosis date is not NaN\n",
    "#             birth_date = row['BIRTH_DATE_off']\n",
    "#             # Calculate age at diagnosis using relativedelta\n",
    "#             age_at_diagnosis = relativedelta(diagnosis_date, birth_date).years\n",
    "#             return age_at_diagnosis\n",
    "#     return None"
   ]
  },
  {
   "cell_type": "code",
   "execution_count": 486,
   "id": "5b63d8e7-8121-499f-a1c4-95048bd1612c",
   "metadata": {
    "tags": []
   },
   "outputs": [],
   "source": [
    "# # Apply the function to create the \"Age_at_diagnosis\" column\n",
    "# df['AGE_AT_DIAGNOSIS'] = df.apply(calculate_age_at_diagnosis, axis=1)\n",
    "# df['AGE_AT_DIAGNOSIS'] = df['AGE_AT_DIAGNOSIS'].round(1)\n",
    "\n",
    "# # Check the result\n",
    "# df[df[\"LUNG\"]==1]"
   ]
  },
  {
   "cell_type": "markdown",
   "id": "4b5a2f19-32d3-4220-b612-a2a8f04eb2db",
   "metadata": {},
   "source": [
    "#### Remove all patients who do not have a diagnosis date"
   ]
  },
  {
   "cell_type": "code",
   "execution_count": 487,
   "id": "aab0b98e-3443-4340-8e39-490caa7be94e",
   "metadata": {
    "tags": []
   },
   "outputs": [],
   "source": [
    "# df[df[\"AGE_AT_DIAGNOSIS\"].isnull()]"
   ]
  },
  {
   "cell_type": "code",
   "execution_count": 488,
   "id": "3faa997c-f559-49c6-b6d3-a1e72ab3469c",
   "metadata": {
    "tags": []
   },
   "outputs": [],
   "source": [
    "# Although these patients were diagnosis with cancer, they did not have the diagnosis date.\n",
    "# df = df.dropna(subset = \"AGE_AT_DIAGNOSIS\")\n",
    "# df[\"AGE_AT_DIAGNOSIS\"].isna().sum()"
   ]
  },
  {
   "cell_type": "code",
   "execution_count": 489,
   "id": "ffdb17f3-febd-4fc8-8911-ef9bae144885",
   "metadata": {
    "tags": []
   },
   "outputs": [
    {
     "data": {
      "text/html": [
       "<div>\n",
       "<style scoped>\n",
       "    .dataframe tbody tr th:only-of-type {\n",
       "        vertical-align: middle;\n",
       "    }\n",
       "\n",
       "    .dataframe tbody tr th {\n",
       "        vertical-align: top;\n",
       "    }\n",
       "\n",
       "    .dataframe thead th {\n",
       "        text-align: right;\n",
       "    }\n",
       "</style>\n",
       "<table border=\"1\" class=\"dataframe\">\n",
       "  <thead>\n",
       "    <tr style=\"text-align: right;\">\n",
       "      <th></th>\n",
       "      <th>BIRTH_DATE_off</th>\n",
       "      <th>DEATH_DATE_off</th>\n",
       "      <th>sex</th>\n",
       "      <th>race</th>\n",
       "      <th>LUNG</th>\n",
       "      <th>PANCREAS</th>\n",
       "      <th>THYROID</th>\n",
       "      <th>COLORECTAL</th>\n",
       "      <th>MELANOMA</th>\n",
       "      <th>LUNG_DT</th>\n",
       "      <th>PANCREAS_DT</th>\n",
       "      <th>THYROID_DT</th>\n",
       "      <th>COLORECTAL_DT</th>\n",
       "      <th>MELANOMA_DT</th>\n",
       "    </tr>\n",
       "  </thead>\n",
       "  <tbody>\n",
       "    <tr>\n",
       "      <th>3</th>\n",
       "      <td>1932-07-28</td>\n",
       "      <td>NaT</td>\n",
       "      <td>Female</td>\n",
       "      <td>African-American</td>\n",
       "      <td>0</td>\n",
       "      <td>0</td>\n",
       "      <td>0</td>\n",
       "      <td>0</td>\n",
       "      <td>0</td>\n",
       "      <td>NaT</td>\n",
       "      <td>NaT</td>\n",
       "      <td>NaT</td>\n",
       "      <td>NaT</td>\n",
       "      <td>NaT</td>\n",
       "    </tr>\n",
       "    <tr>\n",
       "      <th>4</th>\n",
       "      <td>1943-04-17</td>\n",
       "      <td>NaT</td>\n",
       "      <td>Male</td>\n",
       "      <td>White</td>\n",
       "      <td>0</td>\n",
       "      <td>0</td>\n",
       "      <td>0</td>\n",
       "      <td>0</td>\n",
       "      <td>0</td>\n",
       "      <td>NaT</td>\n",
       "      <td>NaT</td>\n",
       "      <td>NaT</td>\n",
       "      <td>NaT</td>\n",
       "      <td>NaT</td>\n",
       "    </tr>\n",
       "    <tr>\n",
       "      <th>5</th>\n",
       "      <td>1950-08-20</td>\n",
       "      <td>NaT</td>\n",
       "      <td>Female</td>\n",
       "      <td>African-American</td>\n",
       "      <td>0</td>\n",
       "      <td>0</td>\n",
       "      <td>0</td>\n",
       "      <td>0</td>\n",
       "      <td>0</td>\n",
       "      <td>NaT</td>\n",
       "      <td>NaT</td>\n",
       "      <td>NaT</td>\n",
       "      <td>NaT</td>\n",
       "      <td>NaT</td>\n",
       "    </tr>\n",
       "    <tr>\n",
       "      <th>8</th>\n",
       "      <td>1947-02-27</td>\n",
       "      <td>NaT</td>\n",
       "      <td>Female</td>\n",
       "      <td>African-American</td>\n",
       "      <td>0</td>\n",
       "      <td>0</td>\n",
       "      <td>0</td>\n",
       "      <td>0</td>\n",
       "      <td>0</td>\n",
       "      <td>NaT</td>\n",
       "      <td>NaT</td>\n",
       "      <td>NaT</td>\n",
       "      <td>NaT</td>\n",
       "      <td>NaT</td>\n",
       "    </tr>\n",
       "    <tr>\n",
       "      <th>10</th>\n",
       "      <td>1954-02-12</td>\n",
       "      <td>NaT</td>\n",
       "      <td>Female</td>\n",
       "      <td>African-American</td>\n",
       "      <td>0</td>\n",
       "      <td>0</td>\n",
       "      <td>0</td>\n",
       "      <td>0</td>\n",
       "      <td>0</td>\n",
       "      <td>NaT</td>\n",
       "      <td>NaT</td>\n",
       "      <td>NaT</td>\n",
       "      <td>NaT</td>\n",
       "      <td>NaT</td>\n",
       "    </tr>\n",
       "    <tr>\n",
       "      <th>...</th>\n",
       "      <td>...</td>\n",
       "      <td>...</td>\n",
       "      <td>...</td>\n",
       "      <td>...</td>\n",
       "      <td>...</td>\n",
       "      <td>...</td>\n",
       "      <td>...</td>\n",
       "      <td>...</td>\n",
       "      <td>...</td>\n",
       "      <td>...</td>\n",
       "      <td>...</td>\n",
       "      <td>...</td>\n",
       "      <td>...</td>\n",
       "      <td>...</td>\n",
       "    </tr>\n",
       "    <tr>\n",
       "      <th>8459</th>\n",
       "      <td>1959-06-30</td>\n",
       "      <td>NaT</td>\n",
       "      <td>Female</td>\n",
       "      <td>African-American</td>\n",
       "      <td>0</td>\n",
       "      <td>0</td>\n",
       "      <td>0</td>\n",
       "      <td>0</td>\n",
       "      <td>0</td>\n",
       "      <td>NaT</td>\n",
       "      <td>NaT</td>\n",
       "      <td>NaT</td>\n",
       "      <td>NaT</td>\n",
       "      <td>NaT</td>\n",
       "    </tr>\n",
       "    <tr>\n",
       "      <th>8461</th>\n",
       "      <td>1956-12-07</td>\n",
       "      <td>NaT</td>\n",
       "      <td>Male</td>\n",
       "      <td>African-American</td>\n",
       "      <td>0</td>\n",
       "      <td>0</td>\n",
       "      <td>0</td>\n",
       "      <td>0</td>\n",
       "      <td>0</td>\n",
       "      <td>NaT</td>\n",
       "      <td>NaT</td>\n",
       "      <td>NaT</td>\n",
       "      <td>NaT</td>\n",
       "      <td>NaT</td>\n",
       "    </tr>\n",
       "    <tr>\n",
       "      <th>8462</th>\n",
       "      <td>1952-06-17</td>\n",
       "      <td>NaT</td>\n",
       "      <td>Male</td>\n",
       "      <td>White</td>\n",
       "      <td>0</td>\n",
       "      <td>0</td>\n",
       "      <td>0</td>\n",
       "      <td>0</td>\n",
       "      <td>0</td>\n",
       "      <td>NaT</td>\n",
       "      <td>NaT</td>\n",
       "      <td>NaT</td>\n",
       "      <td>NaT</td>\n",
       "      <td>NaT</td>\n",
       "    </tr>\n",
       "    <tr>\n",
       "      <th>8464</th>\n",
       "      <td>1938-07-05</td>\n",
       "      <td>NaT</td>\n",
       "      <td>Female</td>\n",
       "      <td>White</td>\n",
       "      <td>0</td>\n",
       "      <td>0</td>\n",
       "      <td>0</td>\n",
       "      <td>0</td>\n",
       "      <td>0</td>\n",
       "      <td>NaT</td>\n",
       "      <td>NaT</td>\n",
       "      <td>NaT</td>\n",
       "      <td>NaT</td>\n",
       "      <td>NaT</td>\n",
       "    </tr>\n",
       "    <tr>\n",
       "      <th>8465</th>\n",
       "      <td>1958-06-05</td>\n",
       "      <td>NaT</td>\n",
       "      <td>Female</td>\n",
       "      <td>African-American</td>\n",
       "      <td>0</td>\n",
       "      <td>0</td>\n",
       "      <td>0</td>\n",
       "      <td>0</td>\n",
       "      <td>0</td>\n",
       "      <td>NaT</td>\n",
       "      <td>NaT</td>\n",
       "      <td>NaT</td>\n",
       "      <td>NaT</td>\n",
       "      <td>NaT</td>\n",
       "    </tr>\n",
       "  </tbody>\n",
       "</table>\n",
       "<p>4315 rows × 14 columns</p>\n",
       "</div>"
      ],
      "text/plain": [
       "     BIRTH_DATE_off DEATH_DATE_off     sex              race  LUNG  PANCREAS  \\\n",
       "3        1932-07-28            NaT  Female  African-American     0         0   \n",
       "4        1943-04-17            NaT    Male             White     0         0   \n",
       "5        1950-08-20            NaT  Female  African-American     0         0   \n",
       "8        1947-02-27            NaT  Female  African-American     0         0   \n",
       "10       1954-02-12            NaT  Female  African-American     0         0   \n",
       "...             ...            ...     ...               ...   ...       ...   \n",
       "8459     1959-06-30            NaT  Female  African-American     0         0   \n",
       "8461     1956-12-07            NaT    Male  African-American     0         0   \n",
       "8462     1952-06-17            NaT    Male             White     0         0   \n",
       "8464     1938-07-05            NaT  Female             White     0         0   \n",
       "8465     1958-06-05            NaT  Female  African-American     0         0   \n",
       "\n",
       "      THYROID  COLORECTAL  MELANOMA LUNG_DT PANCREAS_DT THYROID_DT  \\\n",
       "3           0           0         0     NaT         NaT        NaT   \n",
       "4           0           0         0     NaT         NaT        NaT   \n",
       "5           0           0         0     NaT         NaT        NaT   \n",
       "8           0           0         0     NaT         NaT        NaT   \n",
       "10          0           0         0     NaT         NaT        NaT   \n",
       "...       ...         ...       ...     ...         ...        ...   \n",
       "8459        0           0         0     NaT         NaT        NaT   \n",
       "8461        0           0         0     NaT         NaT        NaT   \n",
       "8462        0           0         0     NaT         NaT        NaT   \n",
       "8464        0           0         0     NaT         NaT        NaT   \n",
       "8465        0           0         0     NaT         NaT        NaT   \n",
       "\n",
       "     COLORECTAL_DT MELANOMA_DT  \n",
       "3              NaT         NaT  \n",
       "4              NaT         NaT  \n",
       "5              NaT         NaT  \n",
       "8              NaT         NaT  \n",
       "10             NaT         NaT  \n",
       "...            ...         ...  \n",
       "8459           NaT         NaT  \n",
       "8461           NaT         NaT  \n",
       "8462           NaT         NaT  \n",
       "8464           NaT         NaT  \n",
       "8465           NaT         NaT  \n",
       "\n",
       "[4315 rows x 14 columns]"
      ]
     },
     "execution_count": 489,
     "metadata": {},
     "output_type": "execute_result"
    }
   ],
   "source": [
    "# Check if all diagnosis date columns are NaN\n",
    "no_diagnosis_mask = df[diagnosis_dt].isnull().all(axis=1)\n",
    "\n",
    "# Retrieve patients without a diagnosis date for any cancer type\n",
    "patients_without_diagnosis = df[no_diagnosis_mask]\n",
    "patients_without_diagnosis"
   ]
  },
  {
   "cell_type": "code",
   "execution_count": 490,
   "id": "62b7e634-b2d3-4f50-8c21-eedf8daff14f",
   "metadata": {
    "tags": []
   },
   "outputs": [
    {
     "data": {
      "text/html": [
       "<div>\n",
       "<style scoped>\n",
       "    .dataframe tbody tr th:only-of-type {\n",
       "        vertical-align: middle;\n",
       "    }\n",
       "\n",
       "    .dataframe tbody tr th {\n",
       "        vertical-align: top;\n",
       "    }\n",
       "\n",
       "    .dataframe thead th {\n",
       "        text-align: right;\n",
       "    }\n",
       "</style>\n",
       "<table border=\"1\" class=\"dataframe\">\n",
       "  <thead>\n",
       "    <tr style=\"text-align: right;\">\n",
       "      <th></th>\n",
       "      <th>BIRTH_DATE_off</th>\n",
       "      <th>DEATH_DATE_off</th>\n",
       "      <th>sex</th>\n",
       "      <th>race</th>\n",
       "      <th>LUNG</th>\n",
       "      <th>PANCREAS</th>\n",
       "      <th>THYROID</th>\n",
       "      <th>COLORECTAL</th>\n",
       "      <th>MELANOMA</th>\n",
       "      <th>LUNG_DT</th>\n",
       "      <th>PANCREAS_DT</th>\n",
       "      <th>THYROID_DT</th>\n",
       "      <th>COLORECTAL_DT</th>\n",
       "      <th>MELANOMA_DT</th>\n",
       "    </tr>\n",
       "  </thead>\n",
       "  <tbody>\n",
       "    <tr>\n",
       "      <th>4330</th>\n",
       "      <td>1963-08-30</td>\n",
       "      <td>NaT</td>\n",
       "      <td>Male</td>\n",
       "      <td>Asian/Mideast-Indian</td>\n",
       "      <td>0</td>\n",
       "      <td>0</td>\n",
       "      <td>0</td>\n",
       "      <td>1</td>\n",
       "      <td>0</td>\n",
       "      <td>NaT</td>\n",
       "      <td>NaT</td>\n",
       "      <td>NaT</td>\n",
       "      <td>NaT</td>\n",
       "      <td>NaT</td>\n",
       "    </tr>\n",
       "    <tr>\n",
       "      <th>5911</th>\n",
       "      <td>1953-04-12</td>\n",
       "      <td>NaT</td>\n",
       "      <td>Female</td>\n",
       "      <td>White</td>\n",
       "      <td>0</td>\n",
       "      <td>0</td>\n",
       "      <td>0</td>\n",
       "      <td>0</td>\n",
       "      <td>1</td>\n",
       "      <td>NaT</td>\n",
       "      <td>NaT</td>\n",
       "      <td>NaT</td>\n",
       "      <td>NaT</td>\n",
       "      <td>NaT</td>\n",
       "    </tr>\n",
       "    <tr>\n",
       "      <th>7831</th>\n",
       "      <td>1966-03-13</td>\n",
       "      <td>NaT</td>\n",
       "      <td>Female</td>\n",
       "      <td>White</td>\n",
       "      <td>0</td>\n",
       "      <td>0</td>\n",
       "      <td>0</td>\n",
       "      <td>0</td>\n",
       "      <td>1</td>\n",
       "      <td>NaT</td>\n",
       "      <td>NaT</td>\n",
       "      <td>NaT</td>\n",
       "      <td>NaT</td>\n",
       "      <td>NaT</td>\n",
       "    </tr>\n",
       "    <tr>\n",
       "      <th>8238</th>\n",
       "      <td>1959-08-20</td>\n",
       "      <td>NaT</td>\n",
       "      <td>Female</td>\n",
       "      <td>African-American</td>\n",
       "      <td>0</td>\n",
       "      <td>0</td>\n",
       "      <td>0</td>\n",
       "      <td>1</td>\n",
       "      <td>0</td>\n",
       "      <td>NaT</td>\n",
       "      <td>NaT</td>\n",
       "      <td>NaT</td>\n",
       "      <td>NaT</td>\n",
       "      <td>NaT</td>\n",
       "    </tr>\n",
       "  </tbody>\n",
       "</table>\n",
       "</div>"
      ],
      "text/plain": [
       "     BIRTH_DATE_off DEATH_DATE_off     sex                  race  LUNG  \\\n",
       "4330     1963-08-30            NaT    Male  Asian/Mideast-Indian     0   \n",
       "5911     1953-04-12            NaT  Female                 White     0   \n",
       "7831     1966-03-13            NaT  Female                 White     0   \n",
       "8238     1959-08-20            NaT  Female      African-American     0   \n",
       "\n",
       "      PANCREAS  THYROID  COLORECTAL  MELANOMA LUNG_DT PANCREAS_DT THYROID_DT  \\\n",
       "4330         0        0           1         0     NaT         NaT        NaT   \n",
       "5911         0        0           0         1     NaT         NaT        NaT   \n",
       "7831         0        0           0         1     NaT         NaT        NaT   \n",
       "8238         0        0           1         0     NaT         NaT        NaT   \n",
       "\n",
       "     COLORECTAL_DT MELANOMA_DT  \n",
       "4330           NaT         NaT  \n",
       "5911           NaT         NaT  \n",
       "7831           NaT         NaT  \n",
       "8238           NaT         NaT  "
      ]
     },
     "execution_count": 490,
     "metadata": {},
     "output_type": "execute_result"
    }
   ],
   "source": [
    "patients_without_diagnosis[patients_without_diagnosis[cancer_types].sum(axis=1) > 0]"
   ]
  },
  {
   "cell_type": "code",
   "execution_count": 491,
   "id": "a395d364-d451-4185-98f1-2b1f829bd710",
   "metadata": {
    "tags": []
   },
   "outputs": [
    {
     "name": "stdout",
     "output_type": "stream",
     "text": [
      "(4153, 14)\n"
     ]
    },
    {
     "data": {
      "text/html": [
       "<div>\n",
       "<style scoped>\n",
       "    .dataframe tbody tr th:only-of-type {\n",
       "        vertical-align: middle;\n",
       "    }\n",
       "\n",
       "    .dataframe tbody tr th {\n",
       "        vertical-align: top;\n",
       "    }\n",
       "\n",
       "    .dataframe thead th {\n",
       "        text-align: right;\n",
       "    }\n",
       "</style>\n",
       "<table border=\"1\" class=\"dataframe\">\n",
       "  <thead>\n",
       "    <tr style=\"text-align: right;\">\n",
       "      <th></th>\n",
       "      <th>BIRTH_DATE_off</th>\n",
       "      <th>DEATH_DATE_off</th>\n",
       "      <th>sex</th>\n",
       "      <th>race</th>\n",
       "      <th>LUNG</th>\n",
       "      <th>PANCREAS</th>\n",
       "      <th>THYROID</th>\n",
       "      <th>COLORECTAL</th>\n",
       "      <th>MELANOMA</th>\n",
       "      <th>LUNG_DT</th>\n",
       "      <th>PANCREAS_DT</th>\n",
       "      <th>THYROID_DT</th>\n",
       "      <th>COLORECTAL_DT</th>\n",
       "      <th>MELANOMA_DT</th>\n",
       "    </tr>\n",
       "  </thead>\n",
       "  <tbody>\n",
       "    <tr>\n",
       "      <th>0</th>\n",
       "      <td>1959-12-02</td>\n",
       "      <td>NaT</td>\n",
       "      <td>Male</td>\n",
       "      <td>African-American</td>\n",
       "      <td>1</td>\n",
       "      <td>0</td>\n",
       "      <td>0</td>\n",
       "      <td>0</td>\n",
       "      <td>0</td>\n",
       "      <td>2013-09-01</td>\n",
       "      <td>NaT</td>\n",
       "      <td>NaT</td>\n",
       "      <td>NaT</td>\n",
       "      <td>NaT</td>\n",
       "    </tr>\n",
       "    <tr>\n",
       "      <th>1</th>\n",
       "      <td>1955-11-18</td>\n",
       "      <td>2016-04-20</td>\n",
       "      <td>Male</td>\n",
       "      <td>African-American</td>\n",
       "      <td>1</td>\n",
       "      <td>0</td>\n",
       "      <td>0</td>\n",
       "      <td>0</td>\n",
       "      <td>0</td>\n",
       "      <td>2016-04-02</td>\n",
       "      <td>NaT</td>\n",
       "      <td>NaT</td>\n",
       "      <td>NaT</td>\n",
       "      <td>NaT</td>\n",
       "    </tr>\n",
       "    <tr>\n",
       "      <th>2</th>\n",
       "      <td>1946-01-14</td>\n",
       "      <td>2015-05-25</td>\n",
       "      <td>Female</td>\n",
       "      <td>African-American</td>\n",
       "      <td>1</td>\n",
       "      <td>0</td>\n",
       "      <td>0</td>\n",
       "      <td>0</td>\n",
       "      <td>0</td>\n",
       "      <td>2015-04-11</td>\n",
       "      <td>NaT</td>\n",
       "      <td>NaT</td>\n",
       "      <td>NaT</td>\n",
       "      <td>NaT</td>\n",
       "    </tr>\n",
       "    <tr>\n",
       "      <th>6</th>\n",
       "      <td>1946-11-03</td>\n",
       "      <td>NaT</td>\n",
       "      <td>Female</td>\n",
       "      <td>African-American</td>\n",
       "      <td>0</td>\n",
       "      <td>0</td>\n",
       "      <td>1</td>\n",
       "      <td>0</td>\n",
       "      <td>0</td>\n",
       "      <td>NaT</td>\n",
       "      <td>NaT</td>\n",
       "      <td>2012-11-29</td>\n",
       "      <td>NaT</td>\n",
       "      <td>NaT</td>\n",
       "    </tr>\n",
       "    <tr>\n",
       "      <th>7</th>\n",
       "      <td>1938-06-10</td>\n",
       "      <td>NaT</td>\n",
       "      <td>Female</td>\n",
       "      <td>African-American</td>\n",
       "      <td>0</td>\n",
       "      <td>0</td>\n",
       "      <td>1</td>\n",
       "      <td>0</td>\n",
       "      <td>0</td>\n",
       "      <td>NaT</td>\n",
       "      <td>NaT</td>\n",
       "      <td>2012-06-24</td>\n",
       "      <td>NaT</td>\n",
       "      <td>NaT</td>\n",
       "    </tr>\n",
       "  </tbody>\n",
       "</table>\n",
       "</div>"
      ],
      "text/plain": [
       "  BIRTH_DATE_off DEATH_DATE_off     sex              race  LUNG  PANCREAS  \\\n",
       "0     1959-12-02            NaT    Male  African-American     1         0   \n",
       "1     1955-11-18     2016-04-20    Male  African-American     1         0   \n",
       "2     1946-01-14     2015-05-25  Female  African-American     1         0   \n",
       "6     1946-11-03            NaT  Female  African-American     0         0   \n",
       "7     1938-06-10            NaT  Female  African-American     0         0   \n",
       "\n",
       "   THYROID  COLORECTAL  MELANOMA    LUNG_DT PANCREAS_DT THYROID_DT  \\\n",
       "0        0           0         0 2013-09-01         NaT        NaT   \n",
       "1        0           0         0 2016-04-02         NaT        NaT   \n",
       "2        0           0         0 2015-04-11         NaT        NaT   \n",
       "6        1           0         0        NaT         NaT 2012-11-29   \n",
       "7        1           0         0        NaT         NaT 2012-06-24   \n",
       "\n",
       "  COLORECTAL_DT MELANOMA_DT  \n",
       "0           NaT         NaT  \n",
       "1           NaT         NaT  \n",
       "2           NaT         NaT  \n",
       "6           NaT         NaT  \n",
       "7           NaT         NaT  "
      ]
     },
     "execution_count": 491,
     "metadata": {},
     "output_type": "execute_result"
    }
   ],
   "source": [
    "# Remove patients without diagnosis date from the data\n",
    "df = df[~df.index.isin(patients_without_diagnosis.index)]\n",
    "\n",
    "print(df.shape)\n",
    "df.head()"
   ]
  },
  {
   "cell_type": "code",
   "execution_count": 492,
   "id": "55c08bfd-c9ab-4aca-8b69-1a3df8526eca",
   "metadata": {
    "tags": []
   },
   "outputs": [
    {
     "name": "stdout",
     "output_type": "stream",
     "text": [
      "<class 'pandas.core.frame.DataFrame'>\n",
      "Index: 4153 entries, 0 to 8467\n",
      "Data columns (total 14 columns):\n",
      " #   Column          Non-Null Count  Dtype         \n",
      "---  ------          --------------  -----         \n",
      " 0   BIRTH_DATE_off  4153 non-null   datetime64[ns]\n",
      " 1   DEATH_DATE_off  326 non-null    datetime64[ns]\n",
      " 2   sex             4153 non-null   object        \n",
      " 3   race            4153 non-null   object        \n",
      " 4   LUNG            4153 non-null   int64         \n",
      " 5   PANCREAS        4153 non-null   int64         \n",
      " 6   THYROID         4153 non-null   int64         \n",
      " 7   COLORECTAL      4153 non-null   int64         \n",
      " 8   MELANOMA        4153 non-null   int64         \n",
      " 9   LUNG_DT         1485 non-null   datetime64[ns]\n",
      " 10  PANCREAS_DT     660 non-null    datetime64[ns]\n",
      " 11  THYROID_DT      745 non-null    datetime64[ns]\n",
      " 12  COLORECTAL_DT   946 non-null    datetime64[ns]\n",
      " 13  MELANOMA_DT     346 non-null    datetime64[ns]\n",
      "dtypes: datetime64[ns](7), int64(5), object(2)\n",
      "memory usage: 486.7+ KB\n"
     ]
    }
   ],
   "source": [
    "df.info()"
   ]
  },
  {
   "cell_type": "code",
   "execution_count": 493,
   "id": "7db66514-9050-4e34-8b5d-b2a02a6f2ce9",
   "metadata": {
    "tags": []
   },
   "outputs": [
    {
     "data": {
      "text/plain": [
       "BIRTH_DATE_off       0\n",
       "DEATH_DATE_off    3827\n",
       "sex                  0\n",
       "race                 0\n",
       "LUNG                 0\n",
       "PANCREAS             0\n",
       "THYROID              0\n",
       "COLORECTAL           0\n",
       "MELANOMA             0\n",
       "LUNG_DT           2668\n",
       "PANCREAS_DT       3493\n",
       "THYROID_DT        3408\n",
       "COLORECTAL_DT     3207\n",
       "MELANOMA_DT       3807\n",
       "dtype: int64"
      ]
     },
     "execution_count": 493,
     "metadata": {},
     "output_type": "execute_result"
    }
   ],
   "source": [
    "df.isna().sum()"
   ]
  },
  {
   "cell_type": "markdown",
   "id": "f4d78665-cf3c-4af2-a40a-3ebf427f57cb",
   "metadata": {},
   "source": [
    "#### Use 8/25/16 as the end date of the analysis. Remove all diagnosis after 8/25/16."
   ]
  },
  {
   "cell_type": "code",
   "execution_count": 494,
   "id": "5e43ec3d-5c60-4231-9459-9b919b1814f2",
   "metadata": {
    "tags": []
   },
   "outputs": [],
   "source": [
    "end_date = pd.to_datetime('2016-08-25')"
   ]
  },
  {
   "cell_type": "code",
   "execution_count": 495,
   "id": "67637fa5-59dd-4319-9345-7d40c93c49ed",
   "metadata": {
    "tags": []
   },
   "outputs": [
    {
     "name": "stdout",
     "output_type": "stream",
     "text": [
      "Lung Date of Diagnosis ranges from 1999-12-16 00:00:00 to 2016-09-05 00:00:00\n",
      "Pancreas Date of Diagnosis ranges from 2008-09-26 00:00:00 to 2016-09-04 00:00:00\n",
      "Thyroid Date of Diagnosis ranges from 1960-01-27 00:00:00 to 2016-09-26 00:00:00\n",
      "Colorectal Date of Diagnosis ranges from 1999-12-05 00:00:00 to 2016-07-23 00:00:00\n",
      "Melanoma Date of Diagnosis ranges from 1986-06-02 00:00:00 to 2016-07-27 00:00:00\n"
     ]
    }
   ],
   "source": [
    "print(f'Lung Date of Diagnosis ranges from {df[\"LUNG_DT\"].min()} to {df[\"LUNG_DT\"].max()}')\n",
    "print(f'Pancreas Date of Diagnosis ranges from {df[\"PANCREAS_DT\"].min()} to {df[\"PANCREAS_DT\"].max()}')\n",
    "print(f'Thyroid Date of Diagnosis ranges from {df[\"THYROID_DT\"].min()} to {df[\"THYROID_DT\"].max()}')\n",
    "print(f'Colorectal Date of Diagnosis ranges from {df[\"COLORECTAL_DT\"].min()} to {df[\"COLORECTAL_DT\"].max()}')\n",
    "print(f'Melanoma Date of Diagnosis ranges from {df[\"MELANOMA_DT\"].min()} to {df[\"MELANOMA_DT\"].max()}')"
   ]
  },
  {
   "cell_type": "code",
   "execution_count": 496,
   "id": "aa91414e-4a61-4af8-9935-b807f8e53dc1",
   "metadata": {
    "tags": []
   },
   "outputs": [
    {
     "data": {
      "text/plain": [
       "4153"
      ]
     },
     "execution_count": 496,
     "metadata": {},
     "output_type": "execute_result"
    }
   ],
   "source": [
    "# Check if any of the diagnosis dates occur after the end date\n",
    "diagnosis_after_end_date = df[diagnosis_dt] > end_date\n",
    "\n",
    "# Check if any row has a diagnosis date after the end date\n",
    "has_diagnosis_after_end_date = diagnosis_after_end_date.any(axis=1)\n",
    "len(has_diagnosis_after_end_date)"
   ]
  },
  {
   "cell_type": "code",
   "execution_count": 497,
   "id": "8a48e9df-4e2e-4a85-bb18-8d58b74b1d69",
   "metadata": {
    "tags": []
   },
   "outputs": [
    {
     "name": "stdout",
     "output_type": "stream",
     "text": [
      "<class 'pandas.core.frame.DataFrame'>\n",
      "Index: 4148 entries, 0 to 8467\n",
      "Data columns (total 14 columns):\n",
      " #   Column          Non-Null Count  Dtype         \n",
      "---  ------          --------------  -----         \n",
      " 0   BIRTH_DATE_off  4148 non-null   datetime64[ns]\n",
      " 1   DEATH_DATE_off  326 non-null    datetime64[ns]\n",
      " 2   sex             4148 non-null   object        \n",
      " 3   race            4148 non-null   object        \n",
      " 4   LUNG            4148 non-null   int64         \n",
      " 5   PANCREAS        4148 non-null   int64         \n",
      " 6   THYROID         4148 non-null   int64         \n",
      " 7   COLORECTAL      4148 non-null   int64         \n",
      " 8   MELANOMA        4148 non-null   int64         \n",
      " 9   LUNG_DT         1483 non-null   datetime64[ns]\n",
      " 10  PANCREAS_DT     658 non-null    datetime64[ns]\n",
      " 11  THYROID_DT      744 non-null    datetime64[ns]\n",
      " 12  COLORECTAL_DT   946 non-null    datetime64[ns]\n",
      " 13  MELANOMA_DT     346 non-null    datetime64[ns]\n",
      "dtypes: datetime64[ns](7), int64(5), object(2)\n",
      "memory usage: 486.1+ KB\n"
     ]
    }
   ],
   "source": [
    "# Remove all diagnosis after end date\n",
    "df2 = df[~has_diagnosis_after_end_date]\n",
    "df2.info()"
   ]
  },
  {
   "cell_type": "code",
   "execution_count": 498,
   "id": "3684bcb8",
   "metadata": {},
   "outputs": [
    {
     "data": {
      "text/plain": [
       "BIRTH_DATE_off       0\n",
       "DEATH_DATE_off    3822\n",
       "sex                  0\n",
       "race                 0\n",
       "LUNG                 0\n",
       "PANCREAS             0\n",
       "THYROID              0\n",
       "COLORECTAL           0\n",
       "MELANOMA             0\n",
       "LUNG_DT           2665\n",
       "PANCREAS_DT       3490\n",
       "THYROID_DT        3404\n",
       "COLORECTAL_DT     3202\n",
       "MELANOMA_DT       3802\n",
       "dtype: int64"
      ]
     },
     "execution_count": 498,
     "metadata": {},
     "output_type": "execute_result"
    }
   ],
   "source": [
    "df2.isna().sum()"
   ]
  },
  {
   "cell_type": "code",
   "execution_count": 499,
   "id": "013be923-ba67-4f15-b2f9-9f73ec624db7",
   "metadata": {
    "tags": []
   },
   "outputs": [
    {
     "name": "stdout",
     "output_type": "stream",
     "text": [
      "Lung Date of Diagnosis ranges from 1999-12-16 00:00:00 to 2016-08-11 00:00:00\n",
      "Pancreas Date of Diagnosis ranges from 2008-09-26 00:00:00 to 2016-08-17 00:00:00\n",
      "Thyroid Date of Diagnosis ranges from 1960-01-27 00:00:00 to 2016-08-25 00:00:00\n",
      "Colorectal Date of Diagnosis ranges from 1999-12-05 00:00:00 to 2016-07-23 00:00:00\n",
      "Melanoma Date of Diagnosis ranges from 1986-06-02 00:00:00 to 2016-07-27 00:00:00\n"
     ]
    }
   ],
   "source": [
    "print(f'Lung Date of Diagnosis ranges from {df2[\"LUNG_DT\"].min()} to {df2[\"LUNG_DT\"].max()}')\n",
    "print(f'Pancreas Date of Diagnosis ranges from {df2[\"PANCREAS_DT\"].min()} to {df2[\"PANCREAS_DT\"].max()}')\n",
    "print(f'Thyroid Date of Diagnosis ranges from {df2[\"THYROID_DT\"].min()} to {df2[\"THYROID_DT\"].max()}')\n",
    "print(f'Colorectal Date of Diagnosis ranges from {df2[\"COLORECTAL_DT\"].min()} to {df2[\"COLORECTAL_DT\"].max()}')\n",
    "print(f'Melanoma Date of Diagnosis ranges from {df2[\"MELANOMA_DT\"].min()} to {df2[\"MELANOMA_DT\"].max()}')"
   ]
  },
  {
   "cell_type": "markdown",
   "id": "4a425c53-24fd-4245-854b-8ba5bde6d029",
   "metadata": {
    "tags": []
   },
   "source": [
    "#### Keep patients who died after 8/25/16 (you need to censor this data)."
   ]
  },
  {
   "cell_type": "code",
   "execution_count": 500,
   "id": "299bf1b6-39a8-443a-8451-6ac9bc9a0fbd",
   "metadata": {
    "tags": []
   },
   "outputs": [
    {
     "name": "stdout",
     "output_type": "stream",
     "text": [
      "Patient death date range: 2012-01-16 00:00:00 to 2017-04-28 00:00:00\n"
     ]
    }
   ],
   "source": [
    "print(f'Patient death date range: {df2[\"DEATH_DATE_off\"].min()} to {df2[\"DEATH_DATE_off\"].max()}')"
   ]
  },
  {
   "cell_type": "code",
   "execution_count": 501,
   "id": "943b1488-4d72-4dd1-933b-5cb0e39e616a",
   "metadata": {
    "tags": []
   },
   "outputs": [
    {
     "name": "stderr",
     "output_type": "stream",
     "text": [
      "C:\\Users\\nhoxh\\AppData\\Local\\Temp\\ipykernel_5692\\1236410419.py:3: FutureWarning: 'any' with datetime64 dtypes is deprecated and will raise in a future version. Use (obj != pd.Timestamp(0)).any() instead.\n",
      "  death_before_end_date = df2[df2[\"DEATH_DATE_off\"] < end_date].any(axis=1)\n"
     ]
    },
    {
     "data": {
      "text/plain": [
       "297"
      ]
     },
     "execution_count": 501,
     "metadata": {},
     "output_type": "execute_result"
    }
   ],
   "source": [
    "# Check if any patients' death dates occur after the end date\n",
    "\n",
    "death_before_end_date = df2[df2[\"DEATH_DATE_off\"] < end_date].any(axis=1)\n",
    "len(death_before_end_date)"
   ]
  },
  {
   "cell_type": "markdown",
   "id": "58f086e0",
   "metadata": {},
   "source": [
    "Censoring Indicator (using \"Death_Date_off\" column):\n",
    "- 1 indicates that the event of interest has occurred (the patient has died).\n",
    "- 0 indicates that the data is censored (the patient was still alive or died after the end date)."
   ]
  },
  {
   "cell_type": "code",
   "execution_count": 502,
   "id": "71523e0d",
   "metadata": {},
   "outputs": [
    {
     "name": "stderr",
     "output_type": "stream",
     "text": [
      "C:\\Users\\nhoxh\\AppData\\Local\\Temp\\ipykernel_5692\\2356388387.py:2: SettingWithCopyWarning: \n",
      "A value is trying to be set on a copy of a slice from a DataFrame.\n",
      "Try using .loc[row_indexer,col_indexer] = value instead\n",
      "\n",
      "See the caveats in the documentation: https://pandas.pydata.org/pandas-docs/stable/user_guide/indexing.html#returning-a-view-versus-a-copy\n",
      "  df2['status'] = 1  # Default to death\n"
     ]
    },
    {
     "data": {
      "text/plain": [
       "status\n",
       "0    3851\n",
       "1     297\n",
       "Name: count, dtype: int64"
      ]
     },
     "execution_count": 502,
     "metadata": {},
     "output_type": "execute_result"
    }
   ],
   "source": [
    "# Create a STATUS column where 1 indicates death and 0 indicates censored\n",
    "df2['status'] = 1  # Default to death\n",
    "\n",
    "# Patients who died after the end date are censored\n",
    "df2.loc[df2['DEATH_DATE_off'] > end_date, 'status'] = 0\n",
    "\n",
    "# Patients who are still alive are censored\n",
    "df2.loc[df2['DEATH_DATE_off'].isnull(), 'status'] = 0\n",
    "\n",
    "df2['status'].value_counts()"
   ]
  },
  {
   "cell_type": "code",
   "execution_count": 503,
   "id": "779b62a6-3c8a-4096-b2cc-089a0700670d",
   "metadata": {},
   "outputs": [
    {
     "name": "stdout",
     "output_type": "stream",
     "text": [
      "<class 'pandas.core.frame.DataFrame'>\n",
      "Index: 4148 entries, 0 to 8467\n",
      "Data columns (total 15 columns):\n",
      " #   Column          Non-Null Count  Dtype         \n",
      "---  ------          --------------  -----         \n",
      " 0   BIRTH_DATE_off  4148 non-null   datetime64[ns]\n",
      " 1   DEATH_DATE_off  326 non-null    datetime64[ns]\n",
      " 2   sex             4148 non-null   object        \n",
      " 3   race            4148 non-null   object        \n",
      " 4   LUNG            4148 non-null   int64         \n",
      " 5   PANCREAS        4148 non-null   int64         \n",
      " 6   THYROID         4148 non-null   int64         \n",
      " 7   COLORECTAL      4148 non-null   int64         \n",
      " 8   MELANOMA        4148 non-null   int64         \n",
      " 9   LUNG_DT         1483 non-null   datetime64[ns]\n",
      " 10  PANCREAS_DT     658 non-null    datetime64[ns]\n",
      " 11  THYROID_DT      744 non-null    datetime64[ns]\n",
      " 12  COLORECTAL_DT   946 non-null    datetime64[ns]\n",
      " 13  MELANOMA_DT     346 non-null    datetime64[ns]\n",
      " 14  status          4148 non-null   int64         \n",
      "dtypes: datetime64[ns](7), int64(6), object(2)\n",
      "memory usage: 518.5+ KB\n"
     ]
    }
   ],
   "source": [
    "df2.info()"
   ]
  },
  {
   "cell_type": "markdown",
   "id": "1d5e8958",
   "metadata": {},
   "source": [
    "#### Create age group column"
   ]
  },
  {
   "cell_type": "code",
   "execution_count": 504,
   "id": "a3e89d3b",
   "metadata": {},
   "outputs": [],
   "source": [
    "# sns.histplot(df2[\"AGE_AT_DIAGNOSIS\"])"
   ]
  },
  {
   "cell_type": "code",
   "execution_count": 505,
   "id": "3967d9e6",
   "metadata": {},
   "outputs": [],
   "source": [
    "# # Define the bins for the age groups\n",
    "# age_bins = [0, 10, 20, 30, 40, 50, 60, 70, 80, 90, 100, 110]\n",
    "# # Define the labels for the age groups\n",
    "# age_labels = ['0-10','11-20', '21-30', '31-40', '41-50', '51-60', '61-70', '71-80', '81-90', '91-100','>100']\n",
    "\n",
    "# # Create the AGE_GROUP column\n",
    "# df2['AGE_GROUP'] = pd.cut(df2['AGE_AT_DIAGNOSIS'], bins=age_bins, labels=age_labels, right=False, include_lowest=True)\n",
    "# df2['AGE_GROUP'].value_counts()"
   ]
  },
  {
   "cell_type": "code",
   "execution_count": 506,
   "id": "2cfbdcb2",
   "metadata": {},
   "outputs": [
    {
     "name": "stdout",
     "output_type": "stream",
     "text": [
      "(4148, 15)\n"
     ]
    },
    {
     "data": {
      "text/html": [
       "<div>\n",
       "<style scoped>\n",
       "    .dataframe tbody tr th:only-of-type {\n",
       "        vertical-align: middle;\n",
       "    }\n",
       "\n",
       "    .dataframe tbody tr th {\n",
       "        vertical-align: top;\n",
       "    }\n",
       "\n",
       "    .dataframe thead th {\n",
       "        text-align: right;\n",
       "    }\n",
       "</style>\n",
       "<table border=\"1\" class=\"dataframe\">\n",
       "  <thead>\n",
       "    <tr style=\"text-align: right;\">\n",
       "      <th></th>\n",
       "      <th>BIRTH_DATE_off</th>\n",
       "      <th>DEATH_DATE_off</th>\n",
       "      <th>sex</th>\n",
       "      <th>race</th>\n",
       "      <th>LUNG</th>\n",
       "      <th>PANCREAS</th>\n",
       "      <th>THYROID</th>\n",
       "      <th>COLORECTAL</th>\n",
       "      <th>MELANOMA</th>\n",
       "      <th>LUNG_DT</th>\n",
       "      <th>PANCREAS_DT</th>\n",
       "      <th>THYROID_DT</th>\n",
       "      <th>COLORECTAL_DT</th>\n",
       "      <th>MELANOMA_DT</th>\n",
       "      <th>status</th>\n",
       "    </tr>\n",
       "  </thead>\n",
       "  <tbody>\n",
       "    <tr>\n",
       "      <th>0</th>\n",
       "      <td>1959-12-02</td>\n",
       "      <td>NaT</td>\n",
       "      <td>Male</td>\n",
       "      <td>African-American</td>\n",
       "      <td>1</td>\n",
       "      <td>0</td>\n",
       "      <td>0</td>\n",
       "      <td>0</td>\n",
       "      <td>0</td>\n",
       "      <td>2013-09-01</td>\n",
       "      <td>NaT</td>\n",
       "      <td>NaT</td>\n",
       "      <td>NaT</td>\n",
       "      <td>NaT</td>\n",
       "      <td>0</td>\n",
       "    </tr>\n",
       "    <tr>\n",
       "      <th>1</th>\n",
       "      <td>1955-11-18</td>\n",
       "      <td>2016-04-20</td>\n",
       "      <td>Male</td>\n",
       "      <td>African-American</td>\n",
       "      <td>1</td>\n",
       "      <td>0</td>\n",
       "      <td>0</td>\n",
       "      <td>0</td>\n",
       "      <td>0</td>\n",
       "      <td>2016-04-02</td>\n",
       "      <td>NaT</td>\n",
       "      <td>NaT</td>\n",
       "      <td>NaT</td>\n",
       "      <td>NaT</td>\n",
       "      <td>1</td>\n",
       "    </tr>\n",
       "    <tr>\n",
       "      <th>2</th>\n",
       "      <td>1946-01-14</td>\n",
       "      <td>2015-05-25</td>\n",
       "      <td>Female</td>\n",
       "      <td>African-American</td>\n",
       "      <td>1</td>\n",
       "      <td>0</td>\n",
       "      <td>0</td>\n",
       "      <td>0</td>\n",
       "      <td>0</td>\n",
       "      <td>2015-04-11</td>\n",
       "      <td>NaT</td>\n",
       "      <td>NaT</td>\n",
       "      <td>NaT</td>\n",
       "      <td>NaT</td>\n",
       "      <td>1</td>\n",
       "    </tr>\n",
       "    <tr>\n",
       "      <th>6</th>\n",
       "      <td>1946-11-03</td>\n",
       "      <td>NaT</td>\n",
       "      <td>Female</td>\n",
       "      <td>African-American</td>\n",
       "      <td>0</td>\n",
       "      <td>0</td>\n",
       "      <td>1</td>\n",
       "      <td>0</td>\n",
       "      <td>0</td>\n",
       "      <td>NaT</td>\n",
       "      <td>NaT</td>\n",
       "      <td>2012-11-29</td>\n",
       "      <td>NaT</td>\n",
       "      <td>NaT</td>\n",
       "      <td>0</td>\n",
       "    </tr>\n",
       "    <tr>\n",
       "      <th>7</th>\n",
       "      <td>1938-06-10</td>\n",
       "      <td>NaT</td>\n",
       "      <td>Female</td>\n",
       "      <td>African-American</td>\n",
       "      <td>0</td>\n",
       "      <td>0</td>\n",
       "      <td>1</td>\n",
       "      <td>0</td>\n",
       "      <td>0</td>\n",
       "      <td>NaT</td>\n",
       "      <td>NaT</td>\n",
       "      <td>2012-06-24</td>\n",
       "      <td>NaT</td>\n",
       "      <td>NaT</td>\n",
       "      <td>0</td>\n",
       "    </tr>\n",
       "  </tbody>\n",
       "</table>\n",
       "</div>"
      ],
      "text/plain": [
       "  BIRTH_DATE_off DEATH_DATE_off     sex              race  LUNG  PANCREAS  \\\n",
       "0     1959-12-02            NaT    Male  African-American     1         0   \n",
       "1     1955-11-18     2016-04-20    Male  African-American     1         0   \n",
       "2     1946-01-14     2015-05-25  Female  African-American     1         0   \n",
       "6     1946-11-03            NaT  Female  African-American     0         0   \n",
       "7     1938-06-10            NaT  Female  African-American     0         0   \n",
       "\n",
       "   THYROID  COLORECTAL  MELANOMA    LUNG_DT PANCREAS_DT THYROID_DT  \\\n",
       "0        0           0         0 2013-09-01         NaT        NaT   \n",
       "1        0           0         0 2016-04-02         NaT        NaT   \n",
       "2        0           0         0 2015-04-11         NaT        NaT   \n",
       "6        1           0         0        NaT         NaT 2012-11-29   \n",
       "7        1           0         0        NaT         NaT 2012-06-24   \n",
       "\n",
       "  COLORECTAL_DT MELANOMA_DT  status  \n",
       "0           NaT         NaT       0  \n",
       "1           NaT         NaT       1  \n",
       "2           NaT         NaT       1  \n",
       "6           NaT         NaT       0  \n",
       "7           NaT         NaT       0  "
      ]
     },
     "execution_count": 506,
     "metadata": {},
     "output_type": "execute_result"
    }
   ],
   "source": [
    "print(df2.shape)\n",
    "df2.head()"
   ]
  },
  {
   "cell_type": "markdown",
   "id": "d4f8edb7",
   "metadata": {},
   "source": [
    "Check duplicates"
   ]
  },
  {
   "cell_type": "code",
   "execution_count": 507,
   "id": "a2b8b600-cbc3-4ab5-96f3-629aebdc1ebc",
   "metadata": {
    "tags": []
   },
   "outputs": [
    {
     "name": "stdout",
     "output_type": "stream",
     "text": [
      "Total duplicates: 0\n"
     ]
    },
    {
     "data": {
      "text/html": [
       "<div>\n",
       "<style scoped>\n",
       "    .dataframe tbody tr th:only-of-type {\n",
       "        vertical-align: middle;\n",
       "    }\n",
       "\n",
       "    .dataframe tbody tr th {\n",
       "        vertical-align: top;\n",
       "    }\n",
       "\n",
       "    .dataframe thead th {\n",
       "        text-align: right;\n",
       "    }\n",
       "</style>\n",
       "<table border=\"1\" class=\"dataframe\">\n",
       "  <thead>\n",
       "    <tr style=\"text-align: right;\">\n",
       "      <th></th>\n",
       "      <th>BIRTH_DATE_off</th>\n",
       "      <th>DEATH_DATE_off</th>\n",
       "      <th>sex</th>\n",
       "      <th>race</th>\n",
       "      <th>LUNG</th>\n",
       "      <th>PANCREAS</th>\n",
       "      <th>THYROID</th>\n",
       "      <th>COLORECTAL</th>\n",
       "      <th>MELANOMA</th>\n",
       "      <th>LUNG_DT</th>\n",
       "      <th>PANCREAS_DT</th>\n",
       "      <th>THYROID_DT</th>\n",
       "      <th>COLORECTAL_DT</th>\n",
       "      <th>MELANOMA_DT</th>\n",
       "      <th>status</th>\n",
       "    </tr>\n",
       "  </thead>\n",
       "  <tbody>\n",
       "  </tbody>\n",
       "</table>\n",
       "</div>"
      ],
      "text/plain": [
       "Empty DataFrame\n",
       "Columns: [BIRTH_DATE_off, DEATH_DATE_off, sex, race, LUNG, PANCREAS, THYROID, COLORECTAL, MELANOMA, LUNG_DT, PANCREAS_DT, THYROID_DT, COLORECTAL_DT, MELANOMA_DT, status]\n",
       "Index: []"
      ]
     },
     "execution_count": 507,
     "metadata": {},
     "output_type": "execute_result"
    }
   ],
   "source": [
    "print(\"Total duplicates:\",df2.duplicated().sum())\n",
    "df2.loc[df2.duplicated]"
   ]
  },
  {
   "cell_type": "markdown",
   "id": "d3d28f7c",
   "metadata": {},
   "source": [
    "Check if there are any patients with more than 1 cancer"
   ]
  },
  {
   "cell_type": "code",
   "execution_count": 508,
   "id": "0a1c5418-60cc-46b5-bf7f-6908fa98ca4a",
   "metadata": {},
   "outputs": [
    {
     "name": "stdout",
     "output_type": "stream",
     "text": [
      "There are 29 patients diagnosed with more than 1 cancer\n"
     ]
    },
    {
     "name": "stderr",
     "output_type": "stream",
     "text": [
      "C:\\Users\\nhoxh\\AppData\\Local\\Temp\\ipykernel_5692\\1927499697.py:2: SettingWithCopyWarning: \n",
      "A value is trying to be set on a copy of a slice from a DataFrame.\n",
      "Try using .loc[row_indexer,col_indexer] = value instead\n",
      "\n",
      "See the caveats in the documentation: https://pandas.pydata.org/pandas-docs/stable/user_guide/indexing.html#returning-a-view-versus-a-copy\n",
      "  df2['num_cancers'] = df2[cancer_types].sum(axis=1)\n"
     ]
    },
    {
     "data": {
      "text/html": [
       "<div>\n",
       "<style scoped>\n",
       "    .dataframe tbody tr th:only-of-type {\n",
       "        vertical-align: middle;\n",
       "    }\n",
       "\n",
       "    .dataframe tbody tr th {\n",
       "        vertical-align: top;\n",
       "    }\n",
       "\n",
       "    .dataframe thead th {\n",
       "        text-align: right;\n",
       "    }\n",
       "</style>\n",
       "<table border=\"1\" class=\"dataframe\">\n",
       "  <thead>\n",
       "    <tr style=\"text-align: right;\">\n",
       "      <th></th>\n",
       "      <th>BIRTH_DATE_off</th>\n",
       "      <th>DEATH_DATE_off</th>\n",
       "      <th>sex</th>\n",
       "      <th>race</th>\n",
       "      <th>LUNG</th>\n",
       "      <th>PANCREAS</th>\n",
       "      <th>THYROID</th>\n",
       "      <th>COLORECTAL</th>\n",
       "      <th>MELANOMA</th>\n",
       "      <th>LUNG_DT</th>\n",
       "      <th>PANCREAS_DT</th>\n",
       "      <th>THYROID_DT</th>\n",
       "      <th>COLORECTAL_DT</th>\n",
       "      <th>MELANOMA_DT</th>\n",
       "      <th>status</th>\n",
       "      <th>num_cancers</th>\n",
       "    </tr>\n",
       "  </thead>\n",
       "  <tbody>\n",
       "    <tr>\n",
       "      <th>41</th>\n",
       "      <td>1928-03-25</td>\n",
       "      <td>NaT</td>\n",
       "      <td>Female</td>\n",
       "      <td>African-American</td>\n",
       "      <td>1</td>\n",
       "      <td>0</td>\n",
       "      <td>0</td>\n",
       "      <td>1</td>\n",
       "      <td>0</td>\n",
       "      <td>2012-02-22</td>\n",
       "      <td>NaT</td>\n",
       "      <td>NaT</td>\n",
       "      <td>2013-12-11</td>\n",
       "      <td>NaT</td>\n",
       "      <td>0</td>\n",
       "      <td>2</td>\n",
       "    </tr>\n",
       "    <tr>\n",
       "      <th>164</th>\n",
       "      <td>1924-11-30</td>\n",
       "      <td>NaT</td>\n",
       "      <td>Female</td>\n",
       "      <td>African-American</td>\n",
       "      <td>1</td>\n",
       "      <td>0</td>\n",
       "      <td>0</td>\n",
       "      <td>1</td>\n",
       "      <td>0</td>\n",
       "      <td>2013-02-04</td>\n",
       "      <td>NaT</td>\n",
       "      <td>NaT</td>\n",
       "      <td>2013-01-14</td>\n",
       "      <td>NaT</td>\n",
       "      <td>0</td>\n",
       "      <td>2</td>\n",
       "    </tr>\n",
       "    <tr>\n",
       "      <th>308</th>\n",
       "      <td>1954-04-20</td>\n",
       "      <td>NaT</td>\n",
       "      <td>Female</td>\n",
       "      <td>African-American</td>\n",
       "      <td>0</td>\n",
       "      <td>0</td>\n",
       "      <td>1</td>\n",
       "      <td>1</td>\n",
       "      <td>0</td>\n",
       "      <td>NaT</td>\n",
       "      <td>NaT</td>\n",
       "      <td>2015-05-06</td>\n",
       "      <td>2010-12-04</td>\n",
       "      <td>NaT</td>\n",
       "      <td>0</td>\n",
       "      <td>2</td>\n",
       "    </tr>\n",
       "    <tr>\n",
       "      <th>557</th>\n",
       "      <td>1942-11-10</td>\n",
       "      <td>NaT</td>\n",
       "      <td>Female</td>\n",
       "      <td>White</td>\n",
       "      <td>1</td>\n",
       "      <td>0</td>\n",
       "      <td>0</td>\n",
       "      <td>1</td>\n",
       "      <td>0</td>\n",
       "      <td>2013-09-14</td>\n",
       "      <td>NaT</td>\n",
       "      <td>NaT</td>\n",
       "      <td>2013-08-16</td>\n",
       "      <td>NaT</td>\n",
       "      <td>0</td>\n",
       "      <td>2</td>\n",
       "    </tr>\n",
       "    <tr>\n",
       "      <th>611</th>\n",
       "      <td>1955-03-23</td>\n",
       "      <td>NaT</td>\n",
       "      <td>Male</td>\n",
       "      <td>White</td>\n",
       "      <td>0</td>\n",
       "      <td>1</td>\n",
       "      <td>0</td>\n",
       "      <td>0</td>\n",
       "      <td>1</td>\n",
       "      <td>NaT</td>\n",
       "      <td>2014-02-14</td>\n",
       "      <td>NaT</td>\n",
       "      <td>NaT</td>\n",
       "      <td>2013-12-13</td>\n",
       "      <td>0</td>\n",
       "      <td>2</td>\n",
       "    </tr>\n",
       "  </tbody>\n",
       "</table>\n",
       "</div>"
      ],
      "text/plain": [
       "    BIRTH_DATE_off DEATH_DATE_off     sex              race  LUNG  PANCREAS  \\\n",
       "41      1928-03-25            NaT  Female  African-American     1         0   \n",
       "164     1924-11-30            NaT  Female  African-American     1         0   \n",
       "308     1954-04-20            NaT  Female  African-American     0         0   \n",
       "557     1942-11-10            NaT  Female             White     1         0   \n",
       "611     1955-03-23            NaT    Male             White     0         1   \n",
       "\n",
       "     THYROID  COLORECTAL  MELANOMA    LUNG_DT PANCREAS_DT THYROID_DT  \\\n",
       "41         0           1         0 2012-02-22         NaT        NaT   \n",
       "164        0           1         0 2013-02-04         NaT        NaT   \n",
       "308        1           1         0        NaT         NaT 2015-05-06   \n",
       "557        0           1         0 2013-09-14         NaT        NaT   \n",
       "611        0           0         1        NaT  2014-02-14        NaT   \n",
       "\n",
       "    COLORECTAL_DT MELANOMA_DT  status  num_cancers  \n",
       "41     2013-12-11         NaT       0            2  \n",
       "164    2013-01-14         NaT       0            2  \n",
       "308    2010-12-04         NaT       0            2  \n",
       "557    2013-08-16         NaT       0            2  \n",
       "611           NaT  2013-12-13       0            2  "
      ]
     },
     "execution_count": 508,
     "metadata": {},
     "output_type": "execute_result"
    }
   ],
   "source": [
    "# Check if there are any patients with more than 1 cancer\n",
    "df2['num_cancers'] = df2[cancer_types].sum(axis=1)\n",
    "multi_cancer_patients = df2[df2['num_cancers'] > 1]\n",
    "\n",
    "print(f'There are {len(multi_cancer_patients)} patients diagnosed with more than 1 cancer')\n",
    "multi_cancer_patients.head()"
   ]
  },
  {
   "cell_type": "markdown",
   "id": "b5d22ba1",
   "metadata": {},
   "source": [
    "#### Create 5 separate dataframes for each cancer type"
   ]
  },
  {
   "cell_type": "code",
   "execution_count": 509,
   "id": "aee48a47",
   "metadata": {},
   "outputs": [
    {
     "name": "stdout",
     "output_type": "stream",
     "text": [
      "<class 'pandas.core.frame.DataFrame'>\n",
      "Index: 4148 entries, 0 to 8467\n",
      "Data columns (total 16 columns):\n",
      " #   Column          Non-Null Count  Dtype         \n",
      "---  ------          --------------  -----         \n",
      " 0   BIRTH_DATE_off  4148 non-null   datetime64[ns]\n",
      " 1   DEATH_DATE_off  326 non-null    datetime64[ns]\n",
      " 2   sex             4148 non-null   object        \n",
      " 3   race            4148 non-null   object        \n",
      " 4   LUNG            4148 non-null   int64         \n",
      " 5   PANCREAS        4148 non-null   int64         \n",
      " 6   THYROID         4148 non-null   int64         \n",
      " 7   COLORECTAL      4148 non-null   int64         \n",
      " 8   MELANOMA        4148 non-null   int64         \n",
      " 9   LUNG_DT         1483 non-null   datetime64[ns]\n",
      " 10  PANCREAS_DT     658 non-null    datetime64[ns]\n",
      " 11  THYROID_DT      744 non-null    datetime64[ns]\n",
      " 12  COLORECTAL_DT   946 non-null    datetime64[ns]\n",
      " 13  MELANOMA_DT     346 non-null    datetime64[ns]\n",
      " 14  status          4148 non-null   int64         \n",
      " 15  num_cancers     4148 non-null   int64         \n",
      "dtypes: datetime64[ns](7), int64(7), object(2)\n",
      "memory usage: 550.9+ KB\n"
     ]
    }
   ],
   "source": [
    "df2.info()"
   ]
  },
  {
   "cell_type": "code",
   "execution_count": 510,
   "id": "0a447dd1",
   "metadata": {},
   "outputs": [],
   "source": [
    "# Dictionary to store datasets for each cancer type\n",
    "cancer_df = {}\n",
    "\n",
    "# For creating AGE_GROUP column\n",
    "age_bins = [0, 10, 20, 30, 40, 50, 60, 70, 80, 90, 100, 110]\n",
    "age_labels = ['0-10','11-20', '21-30', '31-40', '41-50', '51-60', '61-70', '71-80', '81-90', '91-100','>100']\n",
    "\n",
    "for cancer in cancer_types:\n",
    "    cols_to_keep = [\n",
    "        'BIRTH_DATE_off', 'DEATH_DATE_off', 'sex', 'race', 'status', 'num_cancers', cancer, f'{cancer}_DT'\n",
    "    ]\n",
    "    # Filter by patients diagnosed with that particular cancer\n",
    "    temp_df = df2[df2[cancer] == 1][cols_to_keep].copy()\n",
    "\n",
    "    # Calculate the age of each patient at the time of cancer diagnosis.\n",
    "    temp_df['AGE_AT_DIAGNOSIS'] = temp_df.apply(lambda row: relativedelta(row[f'{cancer}_DT'], row['BIRTH_DATE_off']).years, axis=1)\n",
    "\n",
    "    # Categorize each patient into age groups\n",
    "    temp_df['AGE_GROUP'] = pd.cut(temp_df['AGE_AT_DIAGNOSIS'], bins=age_bins, labels=age_labels, right=False, include_lowest=True)\n",
    "\n",
    "    # Create 'DURATION' column: time from diagnosis to event/censoring\n",
    "    temp_df['DURATION'] = (temp_df['DEATH_DATE_off'].fillna(end_date) - temp_df[f'{cancer}_DT']).dt.days\n",
    "\n",
    "    cancer_df[cancer] = temp_df"
   ]
  },
  {
   "cell_type": "code",
   "execution_count": 511,
   "id": "d8f4ff23",
   "metadata": {},
   "outputs": [],
   "source": [
    "# Create 5 separate dataframes for each cancer type\n",
    "lung_df = cancer_df[\"LUNG\"]\n",
    "pancreas_df = cancer_df[\"PANCREAS\"]\n",
    "thyroid_df = cancer_df[\"THYROID\"]\n",
    "colorectal_df = cancer_df[\"COLORECTAL\"]\n",
    "melanoma_df = cancer_df[\"MELANOMA\"]"
   ]
  },
  {
   "cell_type": "markdown",
   "id": "e6faedb4",
   "metadata": {},
   "source": [
    "### Survival Analysis"
   ]
  },
  {
   "cell_type": "code",
   "execution_count": 512,
   "id": "6030935a",
   "metadata": {},
   "outputs": [],
   "source": [
    "# Kaplan-Meier estimator\n",
    "kmf = KaplanMeierFitter()"
   ]
  },
  {
   "cell_type": "code",
   "execution_count": 513,
   "id": "c390e2af",
   "metadata": {},
   "outputs": [],
   "source": [
    "# function for plotting survival by groups\n",
    "\n",
    "def plot_survival(df, group_by):\n",
    "\n",
    "    for group in df[group_by].unique():\n",
    "        group_data = df[df[group_by] == group]\n",
    "        T = group_data['DURATION']\n",
    "        E = group_data['status']\n",
    "\n",
    "        kmf = KaplanMeierFitter()           \n",
    "        kmf.fit(T, E, label=str(group))\n",
    "        kmf.plot_survival_function()\n",
    "\n",
    "        plt.title(f\"Survival curves by {group_by}\")\n",
    "        plt.xlabel(\"Days since Diagnosis\")\n",
    "        plt.ylabel(\"Survival Probability\")\n",
    "\n"
   ]
  },
  {
   "cell_type": "code",
   "execution_count": 514,
   "id": "6502bb2b",
   "metadata": {},
   "outputs": [],
   "source": [
    "def calculate_survival(df, group_by, subgroup, time_point):\n",
    "    subgroup_data = df[df[group_by] == subgroup]\n",
    "    \n",
    "    # Duration and event columns\n",
    "    T = subgroup_data['DURATION']\n",
    "    E = subgroup_data['status']\n",
    "    \n",
    "    # Fit the Kaplan-Meier model\n",
    "    kmf = KaplanMeierFitter()\n",
    "    kmf.fit(T, E)\n",
    "    \n",
    "    # Predict the survival probability at the specified time point\n",
    "    survival_probability = kmf.predict(time_point)\n",
    "    \n",
    "    return survival_probability"
   ]
  },
  {
   "cell_type": "markdown",
   "id": "228ff52b",
   "metadata": {},
   "source": [
    "#### LUNG"
   ]
  },
  {
   "cell_type": "code",
   "execution_count": 515,
   "id": "c1214fce",
   "metadata": {},
   "outputs": [
    {
     "name": "stdout",
     "output_type": "stream",
     "text": [
      "(1483, 11)\n"
     ]
    },
    {
     "data": {
      "text/html": [
       "<div>\n",
       "<style scoped>\n",
       "    .dataframe tbody tr th:only-of-type {\n",
       "        vertical-align: middle;\n",
       "    }\n",
       "\n",
       "    .dataframe tbody tr th {\n",
       "        vertical-align: top;\n",
       "    }\n",
       "\n",
       "    .dataframe thead th {\n",
       "        text-align: right;\n",
       "    }\n",
       "</style>\n",
       "<table border=\"1\" class=\"dataframe\">\n",
       "  <thead>\n",
       "    <tr style=\"text-align: right;\">\n",
       "      <th></th>\n",
       "      <th>BIRTH_DATE_off</th>\n",
       "      <th>DEATH_DATE_off</th>\n",
       "      <th>sex</th>\n",
       "      <th>race</th>\n",
       "      <th>status</th>\n",
       "      <th>num_cancers</th>\n",
       "      <th>LUNG</th>\n",
       "      <th>LUNG_DT</th>\n",
       "      <th>AGE_AT_DIAGNOSIS</th>\n",
       "      <th>AGE_GROUP</th>\n",
       "      <th>DURATION</th>\n",
       "    </tr>\n",
       "  </thead>\n",
       "  <tbody>\n",
       "    <tr>\n",
       "      <th>0</th>\n",
       "      <td>1959-12-02</td>\n",
       "      <td>NaT</td>\n",
       "      <td>Male</td>\n",
       "      <td>African-American</td>\n",
       "      <td>0</td>\n",
       "      <td>1</td>\n",
       "      <td>1</td>\n",
       "      <td>2013-09-01</td>\n",
       "      <td>53</td>\n",
       "      <td>51-60</td>\n",
       "      <td>1089</td>\n",
       "    </tr>\n",
       "    <tr>\n",
       "      <th>1</th>\n",
       "      <td>1955-11-18</td>\n",
       "      <td>2016-04-20</td>\n",
       "      <td>Male</td>\n",
       "      <td>African-American</td>\n",
       "      <td>1</td>\n",
       "      <td>1</td>\n",
       "      <td>1</td>\n",
       "      <td>2016-04-02</td>\n",
       "      <td>60</td>\n",
       "      <td>61-70</td>\n",
       "      <td>18</td>\n",
       "    </tr>\n",
       "    <tr>\n",
       "      <th>2</th>\n",
       "      <td>1946-01-14</td>\n",
       "      <td>2015-05-25</td>\n",
       "      <td>Female</td>\n",
       "      <td>African-American</td>\n",
       "      <td>1</td>\n",
       "      <td>1</td>\n",
       "      <td>1</td>\n",
       "      <td>2015-04-11</td>\n",
       "      <td>69</td>\n",
       "      <td>61-70</td>\n",
       "      <td>44</td>\n",
       "    </tr>\n",
       "    <tr>\n",
       "      <th>9</th>\n",
       "      <td>1957-10-18</td>\n",
       "      <td>NaT</td>\n",
       "      <td>Male</td>\n",
       "      <td>African-American</td>\n",
       "      <td>0</td>\n",
       "      <td>1</td>\n",
       "      <td>1</td>\n",
       "      <td>2012-11-29</td>\n",
       "      <td>55</td>\n",
       "      <td>51-60</td>\n",
       "      <td>1365</td>\n",
       "    </tr>\n",
       "    <tr>\n",
       "      <th>12</th>\n",
       "      <td>1940-02-04</td>\n",
       "      <td>NaT</td>\n",
       "      <td>Male</td>\n",
       "      <td>African-American</td>\n",
       "      <td>0</td>\n",
       "      <td>1</td>\n",
       "      <td>1</td>\n",
       "      <td>2013-05-21</td>\n",
       "      <td>73</td>\n",
       "      <td>71-80</td>\n",
       "      <td>1192</td>\n",
       "    </tr>\n",
       "  </tbody>\n",
       "</table>\n",
       "</div>"
      ],
      "text/plain": [
       "   BIRTH_DATE_off DEATH_DATE_off     sex              race  status  \\\n",
       "0      1959-12-02            NaT    Male  African-American       0   \n",
       "1      1955-11-18     2016-04-20    Male  African-American       1   \n",
       "2      1946-01-14     2015-05-25  Female  African-American       1   \n",
       "9      1957-10-18            NaT    Male  African-American       0   \n",
       "12     1940-02-04            NaT    Male  African-American       0   \n",
       "\n",
       "    num_cancers  LUNG    LUNG_DT  AGE_AT_DIAGNOSIS AGE_GROUP  DURATION  \n",
       "0             1     1 2013-09-01                53     51-60      1089  \n",
       "1             1     1 2016-04-02                60     61-70        18  \n",
       "2             1     1 2015-04-11                69     61-70        44  \n",
       "9             1     1 2012-11-29                55     51-60      1365  \n",
       "12            1     1 2013-05-21                73     71-80      1192  "
      ]
     },
     "execution_count": 515,
     "metadata": {},
     "output_type": "execute_result"
    }
   ],
   "source": [
    "print(lung_df.shape)\n",
    "lung_df.head()"
   ]
  },
  {
   "cell_type": "code",
   "execution_count": 516,
   "id": "2596eea0",
   "metadata": {},
   "outputs": [
    {
     "name": "stdout",
     "output_type": "stream",
     "text": [
      "<class 'pandas.core.frame.DataFrame'>\n",
      "Index: 1483 entries, 0 to 8446\n",
      "Data columns (total 11 columns):\n",
      " #   Column            Non-Null Count  Dtype         \n",
      "---  ------            --------------  -----         \n",
      " 0   BIRTH_DATE_off    1483 non-null   datetime64[ns]\n",
      " 1   DEATH_DATE_off    196 non-null    datetime64[ns]\n",
      " 2   sex               1483 non-null   object        \n",
      " 3   race              1483 non-null   object        \n",
      " 4   status            1483 non-null   int64         \n",
      " 5   num_cancers       1483 non-null   int64         \n",
      " 6   LUNG              1483 non-null   int64         \n",
      " 7   LUNG_DT           1483 non-null   datetime64[ns]\n",
      " 8   AGE_AT_DIAGNOSIS  1483 non-null   int64         \n",
      " 9   AGE_GROUP         1483 non-null   category      \n",
      " 10  DURATION          1483 non-null   int64         \n",
      "dtypes: category(1), datetime64[ns](3), int64(5), object(2)\n",
      "memory usage: 129.3+ KB\n"
     ]
    }
   ],
   "source": [
    "lung_df.info()"
   ]
  },
  {
   "cell_type": "code",
   "execution_count": 517,
   "id": "c69476cd",
   "metadata": {},
   "outputs": [
    {
     "data": {
      "image/png": "[encoded data removed]",
      "text/plain": [
       "<Figure size 800x500 with 1 Axes>"
      ]
     },
     "metadata": {},
     "output_type": "display_data"
    },
    {
     "data": {
      "image/png": "[encoded data removed]",
      "text/plain": [
       "<Figure size 800x500 with 1 Axes>"
      ]
     },
     "metadata": {},
     "output_type": "display_data"
    },
    {
     "data": {
      "image/png": "[encoded data removed]",
      "text/plain": [
       "<Figure size 800x500 with 1 Axes>"
      ]
     },
     "metadata": {},
     "output_type": "display_data"
    }
   ],
   "source": [
    "# Survival curves by gender\n",
    "plt.figure(figsize=(8,5))\n",
    "plot_survival(lung_df, 'sex')\n",
    "plt.show()\n",
    "\n",
    "# Survival curves by race\n",
    "plt.figure(figsize=(8,5))\n",
    "plot_survival(lung_df, 'race')\n",
    "plt.show()\n",
    "\n",
    "# Survival curves by age group\n",
    "plt.figure(figsize=(8,5))\n",
    "plot_survival(lung_df, 'AGE_GROUP')\n",
    "plt.show()"
   ]
  },
  {
   "cell_type": "markdown",
   "id": "75345fe1",
   "metadata": {},
   "source": [
    "#### PANCREAS"
   ]
  },
  {
   "cell_type": "code",
   "execution_count": 518,
   "id": "d0f5d0ab",
   "metadata": {},
   "outputs": [
    {
     "name": "stdout",
     "output_type": "stream",
     "text": [
      "(658, 11)\n"
     ]
    },
    {
     "data": {
      "text/html": [
       "<div>\n",
       "<style scoped>\n",
       "    .dataframe tbody tr th:only-of-type {\n",
       "        vertical-align: middle;\n",
       "    }\n",
       "\n",
       "    .dataframe tbody tr th {\n",
       "        vertical-align: top;\n",
       "    }\n",
       "\n",
       "    .dataframe thead th {\n",
       "        text-align: right;\n",
       "    }\n",
       "</style>\n",
       "<table border=\"1\" class=\"dataframe\">\n",
       "  <thead>\n",
       "    <tr style=\"text-align: right;\">\n",
       "      <th></th>\n",
       "      <th>BIRTH_DATE_off</th>\n",
       "      <th>DEATH_DATE_off</th>\n",
       "      <th>sex</th>\n",
       "      <th>race</th>\n",
       "      <th>status</th>\n",
       "      <th>num_cancers</th>\n",
       "      <th>PANCREAS</th>\n",
       "      <th>PANCREAS_DT</th>\n",
       "      <th>AGE_AT_DIAGNOSIS</th>\n",
       "      <th>AGE_GROUP</th>\n",
       "      <th>DURATION</th>\n",
       "    </tr>\n",
       "  </thead>\n",
       "  <tbody>\n",
       "    <tr>\n",
       "      <th>44</th>\n",
       "      <td>1955-03-10</td>\n",
       "      <td>2012-11-22</td>\n",
       "      <td>Female</td>\n",
       "      <td>African-American</td>\n",
       "      <td>1</td>\n",
       "      <td>1</td>\n",
       "      <td>1</td>\n",
       "      <td>2012-10-12</td>\n",
       "      <td>57</td>\n",
       "      <td>51-60</td>\n",
       "      <td>41</td>\n",
       "    </tr>\n",
       "    <tr>\n",
       "      <th>55</th>\n",
       "      <td>1929-06-27</td>\n",
       "      <td>NaT</td>\n",
       "      <td>Female</td>\n",
       "      <td>African-American</td>\n",
       "      <td>0</td>\n",
       "      <td>1</td>\n",
       "      <td>1</td>\n",
       "      <td>2016-01-27</td>\n",
       "      <td>86</td>\n",
       "      <td>81-90</td>\n",
       "      <td>211</td>\n",
       "    </tr>\n",
       "    <tr>\n",
       "      <th>57</th>\n",
       "      <td>1938-06-24</td>\n",
       "      <td>NaT</td>\n",
       "      <td>Male</td>\n",
       "      <td>White</td>\n",
       "      <td>0</td>\n",
       "      <td>1</td>\n",
       "      <td>1</td>\n",
       "      <td>2013-11-19</td>\n",
       "      <td>75</td>\n",
       "      <td>71-80</td>\n",
       "      <td>1010</td>\n",
       "    </tr>\n",
       "    <tr>\n",
       "      <th>92</th>\n",
       "      <td>1952-08-30</td>\n",
       "      <td>2016-11-21</td>\n",
       "      <td>Male</td>\n",
       "      <td>African-American</td>\n",
       "      <td>0</td>\n",
       "      <td>1</td>\n",
       "      <td>1</td>\n",
       "      <td>2014-10-27</td>\n",
       "      <td>62</td>\n",
       "      <td>61-70</td>\n",
       "      <td>756</td>\n",
       "    </tr>\n",
       "    <tr>\n",
       "      <th>118</th>\n",
       "      <td>1956-07-15</td>\n",
       "      <td>2016-04-22</td>\n",
       "      <td>Male</td>\n",
       "      <td>African-American</td>\n",
       "      <td>1</td>\n",
       "      <td>1</td>\n",
       "      <td>1</td>\n",
       "      <td>2016-03-13</td>\n",
       "      <td>59</td>\n",
       "      <td>51-60</td>\n",
       "      <td>40</td>\n",
       "    </tr>\n",
       "  </tbody>\n",
       "</table>\n",
       "</div>"
      ],
      "text/plain": [
       "    BIRTH_DATE_off DEATH_DATE_off     sex              race  status  \\\n",
       "44      1955-03-10     2012-11-22  Female  African-American       1   \n",
       "55      1929-06-27            NaT  Female  African-American       0   \n",
       "57      1938-06-24            NaT    Male             White       0   \n",
       "92      1952-08-30     2016-11-21    Male  African-American       0   \n",
       "118     1956-07-15     2016-04-22    Male  African-American       1   \n",
       "\n",
       "     num_cancers  PANCREAS PANCREAS_DT  AGE_AT_DIAGNOSIS AGE_GROUP  DURATION  \n",
       "44             1         1  2012-10-12                57     51-60        41  \n",
       "55             1         1  2016-01-27                86     81-90       211  \n",
       "57             1         1  2013-11-19                75     71-80      1010  \n",
       "92             1         1  2014-10-27                62     61-70       756  \n",
       "118            1         1  2016-03-13                59     51-60        40  "
      ]
     },
     "execution_count": 518,
     "metadata": {},
     "output_type": "execute_result"
    }
   ],
   "source": [
    "print(pancreas_df.shape)\n",
    "pancreas_df.head()"
   ]
  },
  {
   "cell_type": "code",
   "execution_count": 519,
   "id": "960b8aef",
   "metadata": {},
   "outputs": [
    {
     "name": "stdout",
     "output_type": "stream",
     "text": [
      "<class 'pandas.core.frame.DataFrame'>\n",
      "Index: 658 entries, 44 to 8420\n",
      "Data columns (total 11 columns):\n",
      " #   Column            Non-Null Count  Dtype         \n",
      "---  ------            --------------  -----         \n",
      " 0   BIRTH_DATE_off    658 non-null    datetime64[ns]\n",
      " 1   DEATH_DATE_off    44 non-null     datetime64[ns]\n",
      " 2   sex               658 non-null    object        \n",
      " 3   race              658 non-null    object        \n",
      " 4   status            658 non-null    int64         \n",
      " 5   num_cancers       658 non-null    int64         \n",
      " 6   PANCREAS          658 non-null    int64         \n",
      " 7   PANCREAS_DT       658 non-null    datetime64[ns]\n",
      " 8   AGE_AT_DIAGNOSIS  658 non-null    int64         \n",
      " 9   AGE_GROUP         658 non-null    category      \n",
      " 10  DURATION          658 non-null    int64         \n",
      "dtypes: category(1), datetime64[ns](3), int64(5), object(2)\n",
      "memory usage: 57.6+ KB\n"
     ]
    }
   ],
   "source": [
    "pancreas_df.info()"
   ]
  },
  {
   "cell_type": "code",
   "execution_count": 520,
   "id": "dc0904de",
   "metadata": {},
   "outputs": [
    {
     "data": {
      "image/png": "[encoded data removed]",
      "text/plain": [
       "<Figure size 800x500 with 1 Axes>"
      ]
     },
     "metadata": {},
     "output_type": "display_data"
    },
    {
     "data": {
      "image/png": "[encoded data removed]",
      "text/plain": [
       "<Figure size 800x500 with 1 Axes>"
      ]
     },
     "metadata": {},
     "output_type": "display_data"
    },
    {
     "data": {
      "image/png": "[encoded data removed]",
      "text/plain": [
       "<Figure size 1000x600 with 1 Axes>"
      ]
     },
     "metadata": {},
     "output_type": "display_data"
    }
   ],
   "source": [
    "# Survival curves by gender\n",
    "plt.figure(figsize=(8,5))\n",
    "plot_survival(pancreas_df, 'sex')\n",
    "plt.show()\n",
    "\n",
    "# Survival curves by race\n",
    "plt.figure(figsize=(8,5))\n",
    "plot_survival(pancreas_df, 'race')\n",
    "plt.show()\n",
    "\n",
    "# Try plotting again\n",
    "plt.figure(figsize=(10, 6))\n",
    "plot_survival(pancreas_df, 'AGE_GROUP')\n",
    "plt.show()"
   ]
  },
  {
   "cell_type": "markdown",
   "id": "57bec302",
   "metadata": {},
   "source": [
    "#### THYROID"
   ]
  },
  {
   "cell_type": "code",
   "execution_count": 521,
   "id": "0dcdfb6b",
   "metadata": {},
   "outputs": [
    {
     "name": "stdout",
     "output_type": "stream",
     "text": [
      "(744, 11)\n"
     ]
    },
    {
     "data": {
      "text/html": [
       "<div>\n",
       "<style scoped>\n",
       "    .dataframe tbody tr th:only-of-type {\n",
       "        vertical-align: middle;\n",
       "    }\n",
       "\n",
       "    .dataframe tbody tr th {\n",
       "        vertical-align: top;\n",
       "    }\n",
       "\n",
       "    .dataframe thead th {\n",
       "        text-align: right;\n",
       "    }\n",
       "</style>\n",
       "<table border=\"1\" class=\"dataframe\">\n",
       "  <thead>\n",
       "    <tr style=\"text-align: right;\">\n",
       "      <th></th>\n",
       "      <th>BIRTH_DATE_off</th>\n",
       "      <th>DEATH_DATE_off</th>\n",
       "      <th>sex</th>\n",
       "      <th>race</th>\n",
       "      <th>status</th>\n",
       "      <th>num_cancers</th>\n",
       "      <th>THYROID</th>\n",
       "      <th>THYROID_DT</th>\n",
       "      <th>AGE_AT_DIAGNOSIS</th>\n",
       "      <th>AGE_GROUP</th>\n",
       "      <th>DURATION</th>\n",
       "    </tr>\n",
       "  </thead>\n",
       "  <tbody>\n",
       "    <tr>\n",
       "      <th>6</th>\n",
       "      <td>1946-11-03</td>\n",
       "      <td>NaT</td>\n",
       "      <td>Female</td>\n",
       "      <td>African-American</td>\n",
       "      <td>0</td>\n",
       "      <td>1</td>\n",
       "      <td>1</td>\n",
       "      <td>2012-11-29</td>\n",
       "      <td>66</td>\n",
       "      <td>61-70</td>\n",
       "      <td>1365</td>\n",
       "    </tr>\n",
       "    <tr>\n",
       "      <th>7</th>\n",
       "      <td>1938-06-10</td>\n",
       "      <td>NaT</td>\n",
       "      <td>Female</td>\n",
       "      <td>African-American</td>\n",
       "      <td>0</td>\n",
       "      <td>1</td>\n",
       "      <td>1</td>\n",
       "      <td>2012-06-24</td>\n",
       "      <td>74</td>\n",
       "      <td>71-80</td>\n",
       "      <td>1523</td>\n",
       "    </tr>\n",
       "    <tr>\n",
       "      <th>28</th>\n",
       "      <td>1948-02-17</td>\n",
       "      <td>NaT</td>\n",
       "      <td>Female</td>\n",
       "      <td>African-American</td>\n",
       "      <td>0</td>\n",
       "      <td>1</td>\n",
       "      <td>1</td>\n",
       "      <td>2012-09-02</td>\n",
       "      <td>64</td>\n",
       "      <td>61-70</td>\n",
       "      <td>1453</td>\n",
       "    </tr>\n",
       "    <tr>\n",
       "      <th>32</th>\n",
       "      <td>1949-09-04</td>\n",
       "      <td>NaT</td>\n",
       "      <td>Female</td>\n",
       "      <td>White</td>\n",
       "      <td>0</td>\n",
       "      <td>1</td>\n",
       "      <td>1</td>\n",
       "      <td>2014-03-19</td>\n",
       "      <td>64</td>\n",
       "      <td>61-70</td>\n",
       "      <td>890</td>\n",
       "    </tr>\n",
       "    <tr>\n",
       "      <th>98</th>\n",
       "      <td>1949-12-15</td>\n",
       "      <td>NaT</td>\n",
       "      <td>Female</td>\n",
       "      <td>African-American</td>\n",
       "      <td>0</td>\n",
       "      <td>1</td>\n",
       "      <td>1</td>\n",
       "      <td>2013-02-26</td>\n",
       "      <td>63</td>\n",
       "      <td>61-70</td>\n",
       "      <td>1276</td>\n",
       "    </tr>\n",
       "  </tbody>\n",
       "</table>\n",
       "</div>"
      ],
      "text/plain": [
       "   BIRTH_DATE_off DEATH_DATE_off     sex              race  status  \\\n",
       "6      1946-11-03            NaT  Female  African-American       0   \n",
       "7      1938-06-10            NaT  Female  African-American       0   \n",
       "28     1948-02-17            NaT  Female  African-American       0   \n",
       "32     1949-09-04            NaT  Female             White       0   \n",
       "98     1949-12-15            NaT  Female  African-American       0   \n",
       "\n",
       "    num_cancers  THYROID THYROID_DT  AGE_AT_DIAGNOSIS AGE_GROUP  DURATION  \n",
       "6             1        1 2012-11-29                66     61-70      1365  \n",
       "7             1        1 2012-06-24                74     71-80      1523  \n",
       "28            1        1 2012-09-02                64     61-70      1453  \n",
       "32            1        1 2014-03-19                64     61-70       890  \n",
       "98            1        1 2013-02-26                63     61-70      1276  "
      ]
     },
     "execution_count": 521,
     "metadata": {},
     "output_type": "execute_result"
    }
   ],
   "source": [
    "print(thyroid_df.shape)\n",
    "thyroid_df.head()"
   ]
  },
  {
   "cell_type": "code",
   "execution_count": 522,
   "id": "65922905",
   "metadata": {},
   "outputs": [
    {
     "name": "stdout",
     "output_type": "stream",
     "text": [
      "<class 'pandas.core.frame.DataFrame'>\n",
      "Index: 744 entries, 6 to 8463\n",
      "Data columns (total 11 columns):\n",
      " #   Column            Non-Null Count  Dtype         \n",
      "---  ------            --------------  -----         \n",
      " 0   BIRTH_DATE_off    744 non-null    datetime64[ns]\n",
      " 1   DEATH_DATE_off    8 non-null      datetime64[ns]\n",
      " 2   sex               744 non-null    object        \n",
      " 3   race              744 non-null    object        \n",
      " 4   status            744 non-null    int64         \n",
      " 5   num_cancers       744 non-null    int64         \n",
      " 6   THYROID           744 non-null    int64         \n",
      " 7   THYROID_DT        744 non-null    datetime64[ns]\n",
      " 8   AGE_AT_DIAGNOSIS  744 non-null    int64         \n",
      " 9   AGE_GROUP         744 non-null    category      \n",
      " 10  DURATION          744 non-null    int64         \n",
      "dtypes: category(1), datetime64[ns](3), int64(5), object(2)\n",
      "memory usage: 65.0+ KB\n"
     ]
    }
   ],
   "source": [
    "thyroid_df.info()"
   ]
  },
  {
   "cell_type": "code",
   "execution_count": 523,
   "id": "5f527f79",
   "metadata": {},
   "outputs": [
    {
     "data": {
      "image/png": "[encoded data removed]",
      "text/plain": [
       "<Figure size 800x500 with 1 Axes>"
      ]
     },
     "metadata": {},
     "output_type": "display_data"
    },
    {
     "data": {
      "image/png": "[encoded data removed]",
      "text/plain": [
       "<Figure size 800x500 with 1 Axes>"
      ]
     },
     "metadata": {},
     "output_type": "display_data"
    },
    {
     "data": {
      "image/png": "[encoded data removed]",
      "text/plain": [
       "<Figure size 1000x600 with 1 Axes>"
      ]
     },
     "metadata": {},
     "output_type": "display_data"
    }
   ],
   "source": [
    "# Survival curves by gender\n",
    "plt.figure(figsize=(8,5))\n",
    "plot_survival(thyroid_df, 'sex')\n",
    "plt.show()\n",
    "\n",
    "# Survival curves by race\n",
    "plt.figure(figsize=(8,5))\n",
    "plot_survival(thyroid_df, 'race')\n",
    "plt.show()\n",
    "\n",
    "# Try plotting again\n",
    "plt.figure(figsize=(10, 6))\n",
    "plot_survival(thyroid_df, 'AGE_GROUP')\n",
    "plt.show()"
   ]
  },
  {
   "cell_type": "markdown",
   "id": "54815faa",
   "metadata": {},
   "source": [
    "#### COLORECTAL"
   ]
  },
  {
   "cell_type": "code",
   "execution_count": 524,
   "id": "6b2004b3",
   "metadata": {},
   "outputs": [
    {
     "name": "stdout",
     "output_type": "stream",
     "text": [
      "(946, 11)\n"
     ]
    },
    {
     "data": {
      "text/html": [
       "<div>\n",
       "<style scoped>\n",
       "    .dataframe tbody tr th:only-of-type {\n",
       "        vertical-align: middle;\n",
       "    }\n",
       "\n",
       "    .dataframe tbody tr th {\n",
       "        vertical-align: top;\n",
       "    }\n",
       "\n",
       "    .dataframe thead th {\n",
       "        text-align: right;\n",
       "    }\n",
       "</style>\n",
       "<table border=\"1\" class=\"dataframe\">\n",
       "  <thead>\n",
       "    <tr style=\"text-align: right;\">\n",
       "      <th></th>\n",
       "      <th>BIRTH_DATE_off</th>\n",
       "      <th>DEATH_DATE_off</th>\n",
       "      <th>sex</th>\n",
       "      <th>race</th>\n",
       "      <th>status</th>\n",
       "      <th>num_cancers</th>\n",
       "      <th>COLORECTAL</th>\n",
       "      <th>COLORECTAL_DT</th>\n",
       "      <th>AGE_AT_DIAGNOSIS</th>\n",
       "      <th>AGE_GROUP</th>\n",
       "      <th>DURATION</th>\n",
       "    </tr>\n",
       "  </thead>\n",
       "  <tbody>\n",
       "    <tr>\n",
       "      <th>13</th>\n",
       "      <td>1971-08-11</td>\n",
       "      <td>NaT</td>\n",
       "      <td>Female</td>\n",
       "      <td>African-American</td>\n",
       "      <td>0</td>\n",
       "      <td>1</td>\n",
       "      <td>1</td>\n",
       "      <td>2014-01-01</td>\n",
       "      <td>42</td>\n",
       "      <td>41-50</td>\n",
       "      <td>967</td>\n",
       "    </tr>\n",
       "    <tr>\n",
       "      <th>14</th>\n",
       "      <td>1948-03-22</td>\n",
       "      <td>2016-01-07</td>\n",
       "      <td>Female</td>\n",
       "      <td>African-American</td>\n",
       "      <td>1</td>\n",
       "      <td>1</td>\n",
       "      <td>1</td>\n",
       "      <td>2014-09-30</td>\n",
       "      <td>66</td>\n",
       "      <td>61-70</td>\n",
       "      <td>464</td>\n",
       "    </tr>\n",
       "    <tr>\n",
       "      <th>16</th>\n",
       "      <td>1946-01-09</td>\n",
       "      <td>NaT</td>\n",
       "      <td>Female</td>\n",
       "      <td>African-American</td>\n",
       "      <td>0</td>\n",
       "      <td>1</td>\n",
       "      <td>1</td>\n",
       "      <td>2013-09-14</td>\n",
       "      <td>67</td>\n",
       "      <td>61-70</td>\n",
       "      <td>1076</td>\n",
       "    </tr>\n",
       "    <tr>\n",
       "      <th>36</th>\n",
       "      <td>1970-12-19</td>\n",
       "      <td>NaT</td>\n",
       "      <td>Female</td>\n",
       "      <td>White</td>\n",
       "      <td>0</td>\n",
       "      <td>1</td>\n",
       "      <td>1</td>\n",
       "      <td>2013-12-09</td>\n",
       "      <td>42</td>\n",
       "      <td>41-50</td>\n",
       "      <td>990</td>\n",
       "    </tr>\n",
       "    <tr>\n",
       "      <th>41</th>\n",
       "      <td>1928-03-25</td>\n",
       "      <td>NaT</td>\n",
       "      <td>Female</td>\n",
       "      <td>African-American</td>\n",
       "      <td>0</td>\n",
       "      <td>2</td>\n",
       "      <td>1</td>\n",
       "      <td>2013-12-11</td>\n",
       "      <td>85</td>\n",
       "      <td>81-90</td>\n",
       "      <td>988</td>\n",
       "    </tr>\n",
       "  </tbody>\n",
       "</table>\n",
       "</div>"
      ],
      "text/plain": [
       "   BIRTH_DATE_off DEATH_DATE_off     sex              race  status  \\\n",
       "13     1971-08-11            NaT  Female  African-American       0   \n",
       "14     1948-03-22     2016-01-07  Female  African-American       1   \n",
       "16     1946-01-09            NaT  Female  African-American       0   \n",
       "36     1970-12-19            NaT  Female             White       0   \n",
       "41     1928-03-25            NaT  Female  African-American       0   \n",
       "\n",
       "    num_cancers  COLORECTAL COLORECTAL_DT  AGE_AT_DIAGNOSIS AGE_GROUP  \\\n",
       "13            1           1    2014-01-01                42     41-50   \n",
       "14            1           1    2014-09-30                66     61-70   \n",
       "16            1           1    2013-09-14                67     61-70   \n",
       "36            1           1    2013-12-09                42     41-50   \n",
       "41            2           1    2013-12-11                85     81-90   \n",
       "\n",
       "    DURATION  \n",
       "13       967  \n",
       "14       464  \n",
       "16      1076  \n",
       "36       990  \n",
       "41       988  "
      ]
     },
     "execution_count": 524,
     "metadata": {},
     "output_type": "execute_result"
    }
   ],
   "source": [
    "print(colorectal_df.shape)\n",
    "colorectal_df.head()"
   ]
  },
  {
   "cell_type": "code",
   "execution_count": 525,
   "id": "ece5366e",
   "metadata": {},
   "outputs": [
    {
     "name": "stdout",
     "output_type": "stream",
     "text": [
      "<class 'pandas.core.frame.DataFrame'>\n",
      "Index: 946 entries, 13 to 8452\n",
      "Data columns (total 11 columns):\n",
      " #   Column            Non-Null Count  Dtype         \n",
      "---  ------            --------------  -----         \n",
      " 0   BIRTH_DATE_off    946 non-null    datetime64[ns]\n",
      " 1   DEATH_DATE_off    64 non-null     datetime64[ns]\n",
      " 2   sex               946 non-null    object        \n",
      " 3   race              946 non-null    object        \n",
      " 4   status            946 non-null    int64         \n",
      " 5   num_cancers       946 non-null    int64         \n",
      " 6   COLORECTAL        946 non-null    int64         \n",
      " 7   COLORECTAL_DT     946 non-null    datetime64[ns]\n",
      " 8   AGE_AT_DIAGNOSIS  946 non-null    int64         \n",
      " 9   AGE_GROUP         946 non-null    category      \n",
      " 10  DURATION          946 non-null    int64         \n",
      "dtypes: category(1), datetime64[ns](3), int64(5), object(2)\n",
      "memory usage: 82.6+ KB\n"
     ]
    }
   ],
   "source": [
    "colorectal_df.info()"
   ]
  },
  {
   "cell_type": "code",
   "execution_count": 526,
   "id": "68e81871",
   "metadata": {},
   "outputs": [
    {
     "data": {
      "image/png": "[encoded data removed]",
      "text/plain": [
       "<Figure size 800x500 with 1 Axes>"
      ]
     },
     "metadata": {},
     "output_type": "display_data"
    },
    {
     "data": {
      "image/png": "[encoded data removed]",
      "text/plain": [
       "<Figure size 800x500 with 1 Axes>"
      ]
     },
     "metadata": {},
     "output_type": "display_data"
    },
    {
     "data": {
      "image/png": "[encoded data removed]",
      "text/plain": [
       "<Figure size 1000x600 with 1 Axes>"
      ]
     },
     "metadata": {},
     "output_type": "display_data"
    }
   ],
   "source": [
    "# Survival curves by gender\n",
    "plt.figure(figsize=(8,5))\n",
    "plot_survival(colorectal_df, 'sex')\n",
    "plt.show()\n",
    "\n",
    "# Survival curves by race\n",
    "plt.figure(figsize=(8,5))\n",
    "plot_survival(colorectal_df, 'race')\n",
    "plt.show()\n",
    "\n",
    "# Try plotting again\n",
    "plt.figure(figsize=(10, 6))\n",
    "plot_survival(colorectal_df, 'AGE_GROUP')\n",
    "plt.show()"
   ]
  },
  {
   "cell_type": "markdown",
   "id": "86a7c8dd",
   "metadata": {},
   "source": [
    "#### MELANOMA"
   ]
  },
  {
   "cell_type": "code",
   "execution_count": 527,
   "id": "9e22670d",
   "metadata": {},
   "outputs": [
    {
     "name": "stdout",
     "output_type": "stream",
     "text": [
      "(346, 11)\n"
     ]
    },
    {
     "data": {
      "text/html": [
       "<div>\n",
       "<style scoped>\n",
       "    .dataframe tbody tr th:only-of-type {\n",
       "        vertical-align: middle;\n",
       "    }\n",
       "\n",
       "    .dataframe tbody tr th {\n",
       "        vertical-align: top;\n",
       "    }\n",
       "\n",
       "    .dataframe thead th {\n",
       "        text-align: right;\n",
       "    }\n",
       "</style>\n",
       "<table border=\"1\" class=\"dataframe\">\n",
       "  <thead>\n",
       "    <tr style=\"text-align: right;\">\n",
       "      <th></th>\n",
       "      <th>BIRTH_DATE_off</th>\n",
       "      <th>DEATH_DATE_off</th>\n",
       "      <th>sex</th>\n",
       "      <th>race</th>\n",
       "      <th>status</th>\n",
       "      <th>num_cancers</th>\n",
       "      <th>MELANOMA</th>\n",
       "      <th>MELANOMA_DT</th>\n",
       "      <th>AGE_AT_DIAGNOSIS</th>\n",
       "      <th>AGE_GROUP</th>\n",
       "      <th>DURATION</th>\n",
       "    </tr>\n",
       "  </thead>\n",
       "  <tbody>\n",
       "    <tr>\n",
       "      <th>146</th>\n",
       "      <td>1928-06-22</td>\n",
       "      <td>NaT</td>\n",
       "      <td>Male</td>\n",
       "      <td>White</td>\n",
       "      <td>0</td>\n",
       "      <td>1</td>\n",
       "      <td>1</td>\n",
       "      <td>2015-03-03</td>\n",
       "      <td>86</td>\n",
       "      <td>81-90</td>\n",
       "      <td>541</td>\n",
       "    </tr>\n",
       "    <tr>\n",
       "      <th>178</th>\n",
       "      <td>1933-12-27</td>\n",
       "      <td>2014-11-27</td>\n",
       "      <td>Male</td>\n",
       "      <td>White</td>\n",
       "      <td>1</td>\n",
       "      <td>1</td>\n",
       "      <td>1</td>\n",
       "      <td>2012-12-20</td>\n",
       "      <td>78</td>\n",
       "      <td>71-80</td>\n",
       "      <td>707</td>\n",
       "    </tr>\n",
       "    <tr>\n",
       "      <th>196</th>\n",
       "      <td>1924-04-08</td>\n",
       "      <td>NaT</td>\n",
       "      <td>Female</td>\n",
       "      <td>White</td>\n",
       "      <td>0</td>\n",
       "      <td>1</td>\n",
       "      <td>1</td>\n",
       "      <td>2014-05-31</td>\n",
       "      <td>90</td>\n",
       "      <td>91-100</td>\n",
       "      <td>817</td>\n",
       "    </tr>\n",
       "    <tr>\n",
       "      <th>341</th>\n",
       "      <td>1957-10-04</td>\n",
       "      <td>NaT</td>\n",
       "      <td>Female</td>\n",
       "      <td>White</td>\n",
       "      <td>0</td>\n",
       "      <td>1</td>\n",
       "      <td>1</td>\n",
       "      <td>2013-05-19</td>\n",
       "      <td>55</td>\n",
       "      <td>51-60</td>\n",
       "      <td>1194</td>\n",
       "    </tr>\n",
       "    <tr>\n",
       "      <th>354</th>\n",
       "      <td>1966-08-03</td>\n",
       "      <td>NaT</td>\n",
       "      <td>Male</td>\n",
       "      <td>White</td>\n",
       "      <td>0</td>\n",
       "      <td>1</td>\n",
       "      <td>1</td>\n",
       "      <td>2015-03-09</td>\n",
       "      <td>48</td>\n",
       "      <td>41-50</td>\n",
       "      <td>535</td>\n",
       "    </tr>\n",
       "  </tbody>\n",
       "</table>\n",
       "</div>"
      ],
      "text/plain": [
       "    BIRTH_DATE_off DEATH_DATE_off     sex   race  status  num_cancers  \\\n",
       "146     1928-06-22            NaT    Male  White       0            1   \n",
       "178     1933-12-27     2014-11-27    Male  White       1            1   \n",
       "196     1924-04-08            NaT  Female  White       0            1   \n",
       "341     1957-10-04            NaT  Female  White       0            1   \n",
       "354     1966-08-03            NaT    Male  White       0            1   \n",
       "\n",
       "     MELANOMA MELANOMA_DT  AGE_AT_DIAGNOSIS AGE_GROUP  DURATION  \n",
       "146         1  2015-03-03                86     81-90       541  \n",
       "178         1  2012-12-20                78     71-80       707  \n",
       "196         1  2014-05-31                90    91-100       817  \n",
       "341         1  2013-05-19                55     51-60      1194  \n",
       "354         1  2015-03-09                48     41-50       535  "
      ]
     },
     "execution_count": 527,
     "metadata": {},
     "output_type": "execute_result"
    }
   ],
   "source": [
    "print(melanoma_df.shape)\n",
    "melanoma_df.head()"
   ]
  },
  {
   "cell_type": "code",
   "execution_count": 528,
   "id": "05cd680e",
   "metadata": {},
   "outputs": [
    {
     "name": "stdout",
     "output_type": "stream",
     "text": [
      "<class 'pandas.core.frame.DataFrame'>\n",
      "Index: 346 entries, 146 to 8467\n",
      "Data columns (total 11 columns):\n",
      " #   Column            Non-Null Count  Dtype         \n",
      "---  ------            --------------  -----         \n",
      " 0   BIRTH_DATE_off    346 non-null    datetime64[ns]\n",
      " 1   DEATH_DATE_off    18 non-null     datetime64[ns]\n",
      " 2   sex               346 non-null    object        \n",
      " 3   race              346 non-null    object        \n",
      " 4   status            346 non-null    int64         \n",
      " 5   num_cancers       346 non-null    int64         \n",
      " 6   MELANOMA          346 non-null    int64         \n",
      " 7   MELANOMA_DT       346 non-null    datetime64[ns]\n",
      " 8   AGE_AT_DIAGNOSIS  346 non-null    int64         \n",
      " 9   AGE_GROUP         346 non-null    category      \n",
      " 10  DURATION          346 non-null    int64         \n",
      "dtypes: category(1), datetime64[ns](3), int64(5), object(2)\n",
      "memory usage: 30.5+ KB\n"
     ]
    }
   ],
   "source": [
    "melanoma_df.info()"
   ]
  },
  {
   "cell_type": "code",
   "execution_count": 529,
   "id": "0ea4de6d",
   "metadata": {},
   "outputs": [
    {
     "data": {
      "image/png": "[encoded data removed]",
      "text/plain": [
       "<Figure size 800x500 with 1 Axes>"
      ]
     },
     "metadata": {},
     "output_type": "display_data"
    },
    {
     "data": {
      "image/png": "[encoded data removed]",
      "text/plain": [
       "<Figure size 800x500 with 1 Axes>"
      ]
     },
     "metadata": {},
     "output_type": "display_data"
    },
    {
     "data": {
      "image/png": "[encoded data removed]",
      "text/plain": [
       "<Figure size 800x500 with 1 Axes>"
      ]
     },
     "metadata": {},
     "output_type": "display_data"
    }
   ],
   "source": [
    "# Survival curves by gender\n",
    "plt.figure(figsize=(8,5))\n",
    "plot_survival(melanoma_df, 'sex')\n",
    "plt.show()\n",
    "\n",
    "# Survival curves by race\n",
    "plt.figure(figsize=(8,5))\n",
    "plot_survival(melanoma_df, 'race')\n",
    "plt.show()\n",
    "\n",
    "# Try plotting again\n",
    "plt.figure(figsize=(8,5))\n",
    "plot_survival(melanoma_df, 'AGE_GROUP')\n",
    "plt.show()"
   ]
  },
  {
   "cell_type": "code",
   "execution_count": 530,
   "id": "db0b016d",
   "metadata": {},
   "outputs": [],
   "source": [
    "# Combine all DataFrames into one DataFrame with an additional 'cancer_type' column\n",
    "combined_cancer_df = pd.concat(cancer_df, names=['cancer_type']).reset_index(level=0)"
   ]
  },
  {
   "cell_type": "code",
   "execution_count": 531,
   "id": "88f28383",
   "metadata": {},
   "outputs": [
    {
     "name": "stdout",
     "output_type": "stream",
     "text": [
      "                     test_statistic             p   -log2(p)\n",
      "COLORECTAL LUNG           31.193663  2.335271e-08  25.351835\n",
      "           MELANOMA        1.608241  2.047393e-01   2.288140\n",
      "           PANCREAS        0.042741  8.362128e-01   0.258058\n",
      "           THYROID        30.688902  3.028926e-08  24.976619\n",
      "LUNG       MELANOMA       21.285341  3.957462e-06  17.946993\n",
      "           PANCREAS       24.335197  8.094642e-07  20.236529\n",
      "           THYROID        87.819133  7.172180e-21  66.918078\n",
      "MELANOMA   PANCREAS        0.546581  4.597180e-01   1.121179\n",
      "           THYROID        15.636980  7.673912e-05  13.669678\n",
      "PANCREAS   THYROID        23.126039  1.517221e-06  19.330137\n"
     ]
    }
   ],
   "source": [
    "pairwise_results = pairwise_logrank_test(event_durations=combined_cancer_df['DURATION'], \n",
    "                                         groups=combined_cancer_df['cancer_type'], \n",
    "                                         event_observed=combined_cancer_df['status'])\n",
    "\n",
    "# Print pairwise comparison results\n",
    "pairwise_summary = pairwise_results.summary\n",
    "print(pairwise_summary)"
   ]
  },
  {
   "cell_type": "code",
   "execution_count": 532,
   "id": "2207fcaa",
   "metadata": {},
   "outputs": [],
   "source": [
    "def compare_survival_at_fixed_timepoint(cancer_dfs):\n",
    "    survival_stats = {}\n",
    "    for cancer_type, df in cancer_dfs.items():\n",
    "        kmf = KaplanMeierFitter()\n",
    "        kmf.fit(df['DURATION'], event_observed=df['status'])\n",
    "        survival_probability = kmf.predict((end_date - pd.to_datetime(df['DURATION'].max())).days)\n",
    "        survival_stats[cancer_type] = survival_probability.round(4)\n",
    "    return survival_stats"
   ]
  },
  {
   "cell_type": "code",
   "execution_count": 533,
   "id": "eb939776",
   "metadata": {},
   "outputs": [
    {
     "data": {
      "text/plain": [
       "{'LUNG': 0.0,\n",
       " 'PANCREAS': 0.943,\n",
       " 'THYROID': 0.955,\n",
       " 'COLORECTAL': 0.7443,\n",
       " 'MELANOMA': 0.7119}"
      ]
     },
     "execution_count": 533,
     "metadata": {},
     "output_type": "execute_result"
    }
   ],
   "source": [
    "compare_survival_at_fixed_timepoint(cancer_df)"
   ]
  },
  {
   "cell_type": "markdown",
   "id": "607c2faf",
   "metadata": {},
   "source": [
    "### Questions:"
   ]
  },
  {
   "cell_type": "markdown",
   "id": "b6a7862e",
   "metadata": {},
   "source": [
    "##### 1. Which cancer has the highest survival for this cohort?"
   ]
  },
  {
   "cell_type": "markdown",
   "id": "ac642b25",
   "metadata": {},
   "source": [
    "Thyroid has the highest survival for this cohort"
   ]
  },
  {
   "cell_type": "markdown",
   "id": "65e3a67d",
   "metadata": {},
   "source": [
    "##### 2. which cancer has the lowest survival for this cohort?"
   ]
  },
  {
   "cell_type": "markdown",
   "id": "ee1b93dd",
   "metadata": {},
   "source": [
    "Lung is the cancer with the lowest survival for this cohort."
   ]
  },
  {
   "cell_type": "markdown",
   "id": "52cc4852",
   "metadata": {},
   "source": [
    "##### 3. How many patients had 2 cancer diagnosis?"
   ]
  },
  {
   "cell_type": "code",
   "execution_count": 534,
   "id": "66a02871",
   "metadata": {},
   "outputs": [
    {
     "name": "stdout",
     "output_type": "stream",
     "text": [
      "There are 29 patients diagnosed with 2 cancers\n"
     ]
    },
    {
     "data": {
      "text/html": [
       "<div>\n",
       "<style scoped>\n",
       "    .dataframe tbody tr th:only-of-type {\n",
       "        vertical-align: middle;\n",
       "    }\n",
       "\n",
       "    .dataframe tbody tr th {\n",
       "        vertical-align: top;\n",
       "    }\n",
       "\n",
       "    .dataframe thead th {\n",
       "        text-align: right;\n",
       "    }\n",
       "</style>\n",
       "<table border=\"1\" class=\"dataframe\">\n",
       "  <thead>\n",
       "    <tr style=\"text-align: right;\">\n",
       "      <th></th>\n",
       "      <th>BIRTH_DATE_off</th>\n",
       "      <th>DEATH_DATE_off</th>\n",
       "      <th>sex</th>\n",
       "      <th>race</th>\n",
       "      <th>LUNG</th>\n",
       "      <th>PANCREAS</th>\n",
       "      <th>THYROID</th>\n",
       "      <th>COLORECTAL</th>\n",
       "      <th>MELANOMA</th>\n",
       "      <th>LUNG_DT</th>\n",
       "      <th>PANCREAS_DT</th>\n",
       "      <th>THYROID_DT</th>\n",
       "      <th>COLORECTAL_DT</th>\n",
       "      <th>MELANOMA_DT</th>\n",
       "      <th>status</th>\n",
       "      <th>num_cancers</th>\n",
       "    </tr>\n",
       "  </thead>\n",
       "  <tbody>\n",
       "    <tr>\n",
       "      <th>41</th>\n",
       "      <td>1928-03-25</td>\n",
       "      <td>NaT</td>\n",
       "      <td>Female</td>\n",
       "      <td>African-American</td>\n",
       "      <td>1</td>\n",
       "      <td>0</td>\n",
       "      <td>0</td>\n",
       "      <td>1</td>\n",
       "      <td>0</td>\n",
       "      <td>2012-02-22</td>\n",
       "      <td>NaT</td>\n",
       "      <td>NaT</td>\n",
       "      <td>2013-12-11</td>\n",
       "      <td>NaT</td>\n",
       "      <td>0</td>\n",
       "      <td>2</td>\n",
       "    </tr>\n",
       "    <tr>\n",
       "      <th>164</th>\n",
       "      <td>1924-11-30</td>\n",
       "      <td>NaT</td>\n",
       "      <td>Female</td>\n",
       "      <td>African-American</td>\n",
       "      <td>1</td>\n",
       "      <td>0</td>\n",
       "      <td>0</td>\n",
       "      <td>1</td>\n",
       "      <td>0</td>\n",
       "      <td>2013-02-04</td>\n",
       "      <td>NaT</td>\n",
       "      <td>NaT</td>\n",
       "      <td>2013-01-14</td>\n",
       "      <td>NaT</td>\n",
       "      <td>0</td>\n",
       "      <td>2</td>\n",
       "    </tr>\n",
       "    <tr>\n",
       "      <th>308</th>\n",
       "      <td>1954-04-20</td>\n",
       "      <td>NaT</td>\n",
       "      <td>Female</td>\n",
       "      <td>African-American</td>\n",
       "      <td>0</td>\n",
       "      <td>0</td>\n",
       "      <td>1</td>\n",
       "      <td>1</td>\n",
       "      <td>0</td>\n",
       "      <td>NaT</td>\n",
       "      <td>NaT</td>\n",
       "      <td>2015-05-06</td>\n",
       "      <td>2010-12-04</td>\n",
       "      <td>NaT</td>\n",
       "      <td>0</td>\n",
       "      <td>2</td>\n",
       "    </tr>\n",
       "    <tr>\n",
       "      <th>557</th>\n",
       "      <td>1942-11-10</td>\n",
       "      <td>NaT</td>\n",
       "      <td>Female</td>\n",
       "      <td>White</td>\n",
       "      <td>1</td>\n",
       "      <td>0</td>\n",
       "      <td>0</td>\n",
       "      <td>1</td>\n",
       "      <td>0</td>\n",
       "      <td>2013-09-14</td>\n",
       "      <td>NaT</td>\n",
       "      <td>NaT</td>\n",
       "      <td>2013-08-16</td>\n",
       "      <td>NaT</td>\n",
       "      <td>0</td>\n",
       "      <td>2</td>\n",
       "    </tr>\n",
       "    <tr>\n",
       "      <th>611</th>\n",
       "      <td>1955-03-23</td>\n",
       "      <td>NaT</td>\n",
       "      <td>Male</td>\n",
       "      <td>White</td>\n",
       "      <td>0</td>\n",
       "      <td>1</td>\n",
       "      <td>0</td>\n",
       "      <td>0</td>\n",
       "      <td>1</td>\n",
       "      <td>NaT</td>\n",
       "      <td>2014-02-14</td>\n",
       "      <td>NaT</td>\n",
       "      <td>NaT</td>\n",
       "      <td>2013-12-13</td>\n",
       "      <td>0</td>\n",
       "      <td>2</td>\n",
       "    </tr>\n",
       "  </tbody>\n",
       "</table>\n",
       "</div>"
      ],
      "text/plain": [
       "    BIRTH_DATE_off DEATH_DATE_off     sex              race  LUNG  PANCREAS  \\\n",
       "41      1928-03-25            NaT  Female  African-American     1         0   \n",
       "164     1924-11-30            NaT  Female  African-American     1         0   \n",
       "308     1954-04-20            NaT  Female  African-American     0         0   \n",
       "557     1942-11-10            NaT  Female             White     1         0   \n",
       "611     1955-03-23            NaT    Male             White     0         1   \n",
       "\n",
       "     THYROID  COLORECTAL  MELANOMA    LUNG_DT PANCREAS_DT THYROID_DT  \\\n",
       "41         0           1         0 2012-02-22         NaT        NaT   \n",
       "164        0           1         0 2013-02-04         NaT        NaT   \n",
       "308        1           1         0        NaT         NaT 2015-05-06   \n",
       "557        0           1         0 2013-09-14         NaT        NaT   \n",
       "611        0           0         1        NaT  2014-02-14        NaT   \n",
       "\n",
       "    COLORECTAL_DT MELANOMA_DT  status  num_cancers  \n",
       "41     2013-12-11         NaT       0            2  \n",
       "164    2013-01-14         NaT       0            2  \n",
       "308    2010-12-04         NaT       0            2  \n",
       "557    2013-08-16         NaT       0            2  \n",
       "611           NaT  2013-12-13       0            2  "
      ]
     },
     "execution_count": 534,
     "metadata": {},
     "output_type": "execute_result"
    }
   ],
   "source": [
    "two_cancers_diag = df2[df2['num_cancers'] == 2]\n",
    "print(f'There are {len(two_cancers_diag)} patients diagnosed with 2 cancers')\n",
    "two_cancers_diag.head()"
   ]
  },
  {
   "cell_type": "markdown",
   "id": "da384432",
   "metadata": {},
   "source": [
    "##### 4. which age group has the lowest survival after 400 days since cancer diagnosis?"
   ]
  },
  {
   "cell_type": "code",
   "execution_count": 535,
   "id": "eeafa253",
   "metadata": {},
   "outputs": [
    {
     "data": {
      "text/plain": [
       "Index(['cancer_type', 'BIRTH_DATE_off', 'DEATH_DATE_off', 'sex', 'race',\n",
       "       'status', 'num_cancers', 'LUNG', 'LUNG_DT', 'AGE_AT_DIAGNOSIS',\n",
       "       'AGE_GROUP', 'DURATION', 'PANCREAS', 'PANCREAS_DT', 'THYROID',\n",
       "       'THYROID_DT', 'COLORECTAL', 'COLORECTAL_DT', 'MELANOMA', 'MELANOMA_DT'],\n",
       "      dtype='object')"
      ]
     },
     "execution_count": 535,
     "metadata": {},
     "output_type": "execute_result"
    }
   ],
   "source": [
    "combined_cancer_df.columns"
   ]
  },
  {
   "cell_type": "code",
   "execution_count": 536,
   "id": "62fb36e6",
   "metadata": {},
   "outputs": [
    {
     "name": "stdout",
     "output_type": "stream",
     "text": [
      "The age group has the lowest survival after 400 days since cancer diagnosis is >100 group\n"
     ]
    }
   ],
   "source": [
    "# Then calculate survival rate after 400 days for each age group across all cancers\n",
    "age_groups = combined_cancer_df['AGE_GROUP'].unique()\n",
    "survival_rates = {}\n",
    "for age_group in age_groups:\n",
    "    survival_rate = calculate_survival(combined_cancer_df, 'AGE_GROUP', age_group, 400)\n",
    "    survival_rates[age_group] = survival_rate\n",
    "\n",
    "# Find the age group with the lowest survival\n",
    "lowest_survival_age_group = min(survival_rates, key=survival_rates.get)\n",
    "print(f'The age group has the lowest survival after 400 days since cancer diagnosis is {lowest_survival_age_group} group')\n"
   ]
  },
  {
   "cell_type": "markdown",
   "id": "ae4d35ae",
   "metadata": {},
   "source": [
    "##### 5. what is the survival rate for females with colorectal cancer after 1000 days since diagnosis?"
   ]
  },
  {
   "cell_type": "code",
   "execution_count": 537,
   "id": "e1589722",
   "metadata": {},
   "outputs": [
    {
     "name": "stdout",
     "output_type": "stream",
     "text": [
      "Survival Rate for females with colorectal cancer after 1000 days since diagnosis is 94.84%\n"
     ]
    }
   ],
   "source": [
    "result_5 = calculate_survival(colorectal_df, 'sex', 'Female', 1000)\n",
    "print(f'Survival Rate for females with colorectal cancer after 1000 days since diagnosis is {result_5.round(4)*100}%')"
   ]
  },
  {
   "cell_type": "markdown",
   "id": "48796c2b",
   "metadata": {},
   "source": [
    "##### 6. what is the survival rate for males with lung cancer after 300 days since diagnosis?"
   ]
  },
  {
   "cell_type": "code",
   "execution_count": 538,
   "id": "15228046",
   "metadata": {},
   "outputs": [
    {
     "name": "stdout",
     "output_type": "stream",
     "text": [
      "Survival Rate for males with lung cancer after 300 days since diagnosis is 91.5%\n"
     ]
    }
   ],
   "source": [
    "result_6 = calculate_survival(lung_df, 'sex', 'Male', 300)\n",
    "print(f'Survival Rate for males with lung cancer after 300 days since diagnosis is {result_6.round(4)*100}%')"
   ]
  },
  {
   "cell_type": "markdown",
   "id": "a4e1af84",
   "metadata": {},
   "source": [
    "##### 7. what is the survival rate for females with melanoma cancer after 1200 days since diagnosis?"
   ]
  },
  {
   "cell_type": "code",
   "execution_count": 539,
   "id": "78524eaa",
   "metadata": {},
   "outputs": [
    {
     "name": "stdout",
     "output_type": "stream",
     "text": [
      "Survival Rate for females with melanoma cancer after 1200 days since diagnosis is 95.88%\n"
     ]
    }
   ],
   "source": [
    "result_7 = calculate_survival(melanoma_df, 'sex', 'Female', 1200)\n",
    "print(f'Survival Rate for females with melanoma cancer after 1200 days since diagnosis is {result_7.round(4)*100}%')"
   ]
  },
  {
   "cell_type": "markdown",
   "id": "13eacb57",
   "metadata": {},
   "source": [
    "##### 8. what is the survival rate for males with thyroid cancer after 1500 days since diagnosis?"
   ]
  },
  {
   "cell_type": "code",
   "execution_count": 540,
   "id": "9763c2c8",
   "metadata": {},
   "outputs": [
    {
     "name": "stdout",
     "output_type": "stream",
     "text": [
      "Survival Rate for males with thyroid cancer after 1500 days since diagnosis is 97.23%\n"
     ]
    }
   ],
   "source": [
    "result_8 = calculate_survival(thyroid_df, 'sex', 'Male', 1500)\n",
    "print(f'Survival Rate for males with thyroid cancer after 1500 days since diagnosis is {result_8.round(4)*100}%')"
   ]
  },
  {
   "cell_type": "markdown",
   "id": "0dd61913",
   "metadata": {},
   "source": [
    "##### 9. what is the survival rate for males with pancreatic cancer after 2200 days since diagnosis?"
   ]
  },
  {
   "cell_type": "code",
   "execution_count": 541,
   "id": "c865797e",
   "metadata": {},
   "outputs": [
    {
     "name": "stdout",
     "output_type": "stream",
     "text": [
      "Survival Rate for males with pancreatic cancer after 2200 days since diagnosis 95.28%\n"
     ]
    }
   ],
   "source": [
    "result_9 = calculate_survival(pancreas_df, 'sex', 'Male', 2200)\n",
    "print(f'Survival Rate for males with pancreatic cancer after 2200 days since diagnosis {result_9.round(4)*100}%')"
   ]
  },
  {
   "cell_type": "markdown",
   "id": "af2fe89f",
   "metadata": {},
   "source": [
    "##### 10. what is the survival rate for African-Americans with colorectal cancer after 2000 days since diagnosis?"
   ]
  },
  {
   "cell_type": "code",
   "execution_count": 542,
   "id": "4708327c",
   "metadata": {},
   "outputs": [
    {
     "data": {
      "text/plain": [
       "race\n",
       "White                   606\n",
       "African-American        263\n",
       "Others                   47\n",
       "Asian/Mideast-Indian     30\n",
       "Name: count, dtype: int64"
      ]
     },
     "execution_count": 542,
     "metadata": {},
     "output_type": "execute_result"
    }
   ],
   "source": [
    "colorectal_df.race.value_counts()"
   ]
  },
  {
   "cell_type": "code",
   "execution_count": 543,
   "id": "0f208358",
   "metadata": {},
   "outputs": [
    {
     "name": "stdout",
     "output_type": "stream",
     "text": [
      "Survival Rate for the African-Americans with colorectal cancer after 2200 days since diagnosis is 77.07000000000001%\n"
     ]
    }
   ],
   "source": [
    "result_10 = calculate_survival(colorectal_df, 'race', 'African-American', 2000)\n",
    "print(f'Survival Rate for the African-Americans with colorectal cancer after 2200 days since diagnosis is {result_10.round(4)*100}%')"
   ]
  },
  {
   "cell_type": "markdown",
   "id": "9eec1f40",
   "metadata": {},
   "source": [
    "##### 11. what is the survival rate for Whites with lung cancer after 1000 days since diagnosis?"
   ]
  },
  {
   "cell_type": "code",
   "execution_count": 544,
   "id": "1c41be3e",
   "metadata": {},
   "outputs": [
    {
     "name": "stdout",
     "output_type": "stream",
     "text": [
      "Survival Rate for the Whites with lung cancer after 1000 days since diagnosis is 90.93%\n"
     ]
    }
   ],
   "source": [
    "result_11 = calculate_survival(lung_df, 'race', 'White', 1000)\n",
    "print(f'Survival Rate for the Whites with lung cancer after 1000 days since diagnosis is {result_11.round(4)*100}%')"
   ]
  },
  {
   "cell_type": "markdown",
   "id": "7135194d",
   "metadata": {},
   "source": [
    "##### 12. what is the survival rate for African-Americans with melanoma cancer after 2 years since diagnosis?"
   ]
  },
  {
   "cell_type": "code",
   "execution_count": 545,
   "id": "1ea5bb19",
   "metadata": {},
   "outputs": [
    {
     "name": "stdout",
     "output_type": "stream",
     "text": [
      "Survival Rate for the African-Americans with melanoma cancer after 2 years since diagnosis is 82.54%\n"
     ]
    }
   ],
   "source": [
    "result_12 = calculate_survival(melanoma_df, 'race', 'African-American', 365*2)\n",
    "print(f'Survival Rate for the African-Americans with melanoma cancer after 2 years since diagnosis is {result_12.round(4)*100}%')"
   ]
  },
  {
   "cell_type": "markdown",
   "id": "956dd23c",
   "metadata": {},
   "source": [
    "##### 13. what is the survival rate for Whites with pancreatic cancer after 3 years since diagnosis?"
   ]
  },
  {
   "cell_type": "code",
   "execution_count": 546,
   "id": "983a1660",
   "metadata": {},
   "outputs": [
    {
     "name": "stdout",
     "output_type": "stream",
     "text": [
      "Survival Rate for the Whites with pancreatic cancer after 3 years since diagnosis is 96.54%\n"
     ]
    }
   ],
   "source": [
    "result_13 = calculate_survival(pancreas_df, 'race', 'White', 365*3)\n",
    "print(f'Survival Rate for the Whites with pancreatic cancer after 3 years since diagnosis is {result_13.round(4)*100}%')"
   ]
  },
  {
   "cell_type": "markdown",
   "id": "b2fc533f",
   "metadata": {},
   "source": [
    "##### 14. what is the survival rate for Asians with thyroid cancer after 1500 days since diagnosis?"
   ]
  },
  {
   "cell_type": "code",
   "execution_count": 547,
   "id": "72ebf65f",
   "metadata": {},
   "outputs": [
    {
     "name": "stdout",
     "output_type": "stream",
     "text": [
      "Survival Rate for the Asians with thyroid cancer after 1500 days since diagnosis is 92.86%\n"
     ]
    }
   ],
   "source": [
    "result_14 = calculate_survival(thyroid_df, 'race', 'Asian/Mideast-Indian', 1500)\n",
    "print(f'Survival Rate for the Asians with thyroid cancer after 1500 days since diagnosis is {result_14.round(4)*100}%')"
   ]
  },
  {
   "cell_type": "markdown",
   "id": "c2d2031f",
   "metadata": {},
   "source": [
    "##### 15. which age group has the lowest survival for colorectal cancer at the end of the study?"
   ]
  },
  {
   "cell_type": "code",
   "execution_count": 548,
   "id": "1f1b1ad5",
   "metadata": {},
   "outputs": [
    {
     "name": "stdout",
     "output_type": "stream",
     "text": [
      "The age group has the lowest survival for colorectal cancer at the end of the study is 51-60 group\n"
     ]
    }
   ],
   "source": [
    "# Then calculate survival rate after 400 days for each age group across all cancers\n",
    "colorectal_survival_rates = {}\n",
    "for age in colorectal_df['AGE_GROUP'].unique():\n",
    "    age_groups = colorectal_df[colorectal_df[\"AGE_GROUP\"] == age]\n",
    "    kmf.fit(age_groups['DURATION'], event_observed=age_groups['status'])\n",
    "\n",
    "    survival_rate = kmf.predict((end_date - pd.to_datetime(age_groups['DURATION'].min())).days)\n",
    "\n",
    "    colorectal_survival_rates[age] = survival_rate\n",
    "\n",
    "# Find the age group with the lowest survival\n",
    "lowest_colorectal_survival_age_group = min(colorectal_survival_rates, key=colorectal_survival_rates.get)\n",
    "print(f'The age group has the lowest survival for colorectal cancer at the end of the study is {lowest_colorectal_survival_age_group} group')"
   ]
  },
  {
   "cell_type": "markdown",
   "id": "8da89c5f",
   "metadata": {},
   "source": [
    "##### 16. which age group has the highest survival for lung cancer at the end of the study?"
   ]
  },
  {
   "cell_type": "code",
   "execution_count": 549,
   "id": "e0f3a83a",
   "metadata": {},
   "outputs": [
    {
     "name": "stdout",
     "output_type": "stream",
     "text": [
      "The age group has the highest survival for lung cancer at the end of the study is 21-30 group\n"
     ]
    }
   ],
   "source": [
    "# Then calculate survival rate after 400 days for each age group across all cancers\n",
    "lung_survival_rates = {}\n",
    "for age_group in lung_df['AGE_GROUP'].unique():\n",
    "    age_groups = lung_df[lung_df[\"AGE_GROUP\"] == age_group]\n",
    "    kmf.fit(age_groups['DURATION'], event_observed = age_groups['status'])\n",
    "\n",
    "    survival_rate = kmf.predict((end_date - pd.to_datetime(age_groups['DURATION'].min())).days)\n",
    "\n",
    "    lung_survival_rates[age_group] = survival_rate\n",
    "\n",
    "# Find the age group with the lowest survival\n",
    "highest_lung_survival_age_group = max(lung_survival_rates, key=lung_survival_rates.get)\n",
    "print(f'The age group has the highest survival for lung cancer at the end of the study is {highest_lung_survival_age_group} group')"
   ]
  },
  {
   "cell_type": "markdown",
   "id": "c902496f",
   "metadata": {},
   "source": [
    "##### 17. what is the survival rate for 61-70 age group with melanoma cancer after 5 years since diagnosis?"
   ]
  },
  {
   "cell_type": "code",
   "execution_count": 550,
   "id": "83a763d7",
   "metadata": {},
   "outputs": [
    {
     "data": {
      "text/plain": [
       "AGE_GROUP\n",
       "61-70     79\n",
       "51-60     69\n",
       "71-80     60\n",
       "41-50     54\n",
       "31-40     31\n",
       "81-90     25\n",
       "21-30     20\n",
       "11-20      4\n",
       "91-100     4\n",
       "0-10       0\n",
       ">100       0\n",
       "Name: count, dtype: int64"
      ]
     },
     "execution_count": 550,
     "metadata": {},
     "output_type": "execute_result"
    }
   ],
   "source": [
    "melanoma_df.AGE_GROUP.value_counts()"
   ]
  },
  {
   "cell_type": "code",
   "execution_count": 551,
   "id": "f52b6750",
   "metadata": {},
   "outputs": [
    {
     "name": "stdout",
     "output_type": "stream",
     "text": [
      "Survival Rate for for 61-70 age group with melanoma cancer after 5 years since diagnosis is 97.39999999999999%\n"
     ]
    }
   ],
   "source": [
    "result_17 = calculate_survival(melanoma_df, 'AGE_GROUP', '61-70', 365*5)\n",
    "print(f'Survival Rate for for 61-70 age group with melanoma cancer after 5 years since diagnosis is {result_17.round(4)*100}%')"
   ]
  },
  {
   "cell_type": "markdown",
   "id": "08612aab",
   "metadata": {},
   "source": [
    "##### 18. what is the survival rate for 21 - 30 age group with pancreatic cancer after a year since diagnosis?"
   ]
  },
  {
   "cell_type": "code",
   "execution_count": 552,
   "id": "3544fc86",
   "metadata": {},
   "outputs": [
    {
     "data": {
      "text/plain": [
       "AGE_GROUP\n",
       "61-70     222\n",
       "71-80     178\n",
       "51-60     135\n",
       "81-90      72\n",
       "41-50      30\n",
       "31-40       9\n",
       "91-100      9\n",
       "21-30       3\n",
       "0-10        0\n",
       "11-20       0\n",
       ">100        0\n",
       "Name: count, dtype: int64"
      ]
     },
     "execution_count": 552,
     "metadata": {},
     "output_type": "execute_result"
    }
   ],
   "source": [
    "pancreas_df.AGE_GROUP.value_counts()"
   ]
  },
  {
   "cell_type": "code",
   "execution_count": 553,
   "id": "3fd91b27",
   "metadata": {},
   "outputs": [
    {
     "name": "stdout",
     "output_type": "stream",
     "text": [
      "Survival Rate for 21-30 age group with pancreatic cancer after a year since diagnosis is 100.0%\n"
     ]
    }
   ],
   "source": [
    "result_18 = calculate_survival(pancreas_df, 'AGE_GROUP', '21-30', 365)\n",
    "print(f'Survival Rate for 21-30 age group with pancreatic cancer after a year since diagnosis is {result_18.round(4)*100}%')"
   ]
  },
  {
   "cell_type": "markdown",
   "id": "6f177fbc",
   "metadata": {},
   "source": [
    "##### 19. what is the survival rate for 51-60 age group with thyroid cancer after 2200 days since diagnosis?"
   ]
  },
  {
   "cell_type": "code",
   "execution_count": 554,
   "id": "3eb5c669",
   "metadata": {},
   "outputs": [
    {
     "data": {
      "text/plain": [
       "AGE_GROUP\n",
       "61-70     168\n",
       "51-60     165\n",
       "41-50     130\n",
       "31-40     121\n",
       "21-30      67\n",
       "71-80      44\n",
       "11-20      34\n",
       "81-90      10\n",
       "0-10        5\n",
       "91-100      0\n",
       ">100        0\n",
       "Name: count, dtype: int64"
      ]
     },
     "execution_count": 554,
     "metadata": {},
     "output_type": "execute_result"
    }
   ],
   "source": [
    "thyroid_df.AGE_GROUP.value_counts()"
   ]
  },
  {
   "cell_type": "code",
   "execution_count": 555,
   "id": "ee0af8e9",
   "metadata": {},
   "outputs": [
    {
     "name": "stdout",
     "output_type": "stream",
     "text": [
      "Survival Rate the survival rate for 51-60 age group with thyroid cancer after 2200 days since diagnosis is 98.18%\n"
     ]
    }
   ],
   "source": [
    "result_19 = calculate_survival(thyroid_df, 'AGE_GROUP', '51-60', 2200)\n",
    "print(f'Survival Rate the survival rate for 51-60 age group with thyroid cancer after 2200 days since diagnosis is {result_19.round(4)*100}%')"
   ]
  },
  {
   "cell_type": "markdown",
   "id": "d221b217",
   "metadata": {},
   "source": [
    "##### 20. which race has the high survival for all cancers after 2500 days since diagnosis?"
   ]
  },
  {
   "cell_type": "code",
   "execution_count": 556,
   "id": "4aaede7f",
   "metadata": {},
   "outputs": [
    {
     "name": "stdout",
     "output_type": "stream",
     "text": [
      "The race has the high survival for all cancers after 2500 days since diagnosis is White group\n"
     ]
    }
   ],
   "source": [
    "races = combined_cancer_df['race'].unique()\n",
    "race_survival_rates = {}\n",
    "for r in races:\n",
    "    survival_rate = calculate_survival(combined_cancer_df, 'race', r, 2500)\n",
    "    race_survival_rates[r] = survival_rate\n",
    "\n",
    "# Find the age group with the lowest survival\n",
    "highest_survival_race = max(race_survival_rates, key=race_survival_rates.get)\n",
    "print(f'The race has the high survival for all cancers after 2500 days since diagnosis is {highest_survival_race} group')\n"
   ]
  }
 ],
 "metadata": {
  "kernelspec": {
   "display_name": "Python 3 (ipykernel)",
   "language": "python",
   "name": "python3"
  },
  "language_info": {
   "codemirror_mode": {
    "name": "ipython",
    "version": 3
   },
   "file_extension": ".py",
   "mimetype": "text/x-python",
   "name": "python",
   "nbconvert_exporter": "python",
   "pygments_lexer": "ipython3",
   "version": "3.11.4"
  }
 },
 "nbformat": 4,
 "nbformat_minor": 5
}
